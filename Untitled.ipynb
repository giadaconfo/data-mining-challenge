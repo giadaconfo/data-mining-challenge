{
 "cells": [
  {
   "cell_type": "code",
   "execution_count": null,
   "metadata": {},
   "outputs": [],
   "source": [
    "# Multiple Linear Regression\n"
   ]
  },
  {
   "cell_type": "code",
   "execution_count": null,
   "metadata": {},
   "outputs": [],
   "source": [
    "# import all the required libraries and put matplotlib in inline mode to plot on the notebook\n",
    "import pandas as pd\n",
    "import numpy as np\n",
    "import math\n",
    "import matplotlib.pyplot as plt\n",
    "from sklearn import linear_model\n",
    "from sklearn.metrics import mean_squared_error, r2_score\n",
    "%matplotlib inline"
   ]
  },
  {
   "cell_type": "code",
   "execution_count": null,
   "metadata": {},
   "outputs": [],
   "source": [
    "def compute_polynomial_model(x, coef, intercept):\n",
    "    \"\"\"Compute the polynomial given the input x, the intercept and the coefficients\"\"\"\n",
    "    min_x = min(x)\n",
    "    max_x = max(x)\n",
    "    xp = np.arange(min_x, max_x, (max_x-min_x)/100.0)\n",
    "\n",
    "    x = xp\n",
    "    yp = intercept\n",
    "\n",
    "    for w in coef:\n",
    "        yp = yp + w * x\n",
    "        x = x * xp\n",
    "    return xp,yp"
   ]
  },
  {
   "cell_type": "code",
   "execution_count": null,
   "metadata": {},
   "outputs": [],
   "source": [
    "def generate_variables(original_column, degree):\n",
    "    \"\"\"Generates the list of variables for a polynomial approximator\"\"\"\n",
    "    v = [original_column]\n",
    "    for d in range(2,degree+1):\n",
    "        v.append(original_column+str(d))\n",
    "    return v"
   ]
  },
  {
   "cell_type": "code",
   "execution_count": null,
   "metadata": {},
   "outputs": [],
   "source": [
    "def add_degrees(dataset,original_column, degree):\n",
    "    \"\"\"Given a column name and the degree of a polynomial, it adds \n",
    "    all the extra columns needed for a polynomial approximator\"\"\"\n",
    "    \n",
    "    new_dataset = dataset\n",
    "    current_column = original_column\n",
    "    for d in range(2,degree+1):\n",
    "        column_name = original_column+str(d)\n",
    "\n",
    "        new_dataset[column_name] = new_dataset[current_column]*dataset[original_column]\n",
    "\n",
    "        current_column = column_name\n",
    "\n",
    "    return new_dataset\n",
    "\n"
   ]
  },
  {
   "cell_type": "code",
   "execution_count": null,
   "metadata": {},
   "outputs": [],
   "source": [
    "def plot_approximator(x,y,xp,yp,title=\"\"):\n",
    "    \"\"\"Plots the original data (x,y) and a set of point (xp,yp) showing the model approximation\"\"\"\n",
    "    font = {'family' : 'sans',\n",
    "        'size'   : 14}\n",
    "    plt.rc('font', **font)\n",
    "\n",
    "    plt.scatter(x, y,  color='blue')\n",
    "    plt.plot(xp, yp, color='red', linewidth=3)\n",
    "    plt.xlabel(\"LSTAT\")\n",
    "    plt.ylabel(\"MEDV\")\n",
    "    \n",
    "    if (title!=\"\"):\n",
    "        plt.title(title)\n",
    "\n",
    "    plt.xlim([0,40])\n",
    "    plt.ylim([0,60])\n",
    "    plt.show()"
   ]
  },
  {
   "cell_type": "code",
   "execution_count": 1,
   "metadata": {},
   "outputs": [],
   "source": [
    "## Read the data already imputed"
   ]
  },
  {
   "cell_type": "code",
   "execution_count": null,
   "metadata": {},
   "outputs": [],
   "source": [
    "dataset = pd.read_csv('./data/dataset_imputed.csv')\n",
    "dataset.columns\n",
    "dataset.describe()"
   ]
  }
 ],
 "metadata": {
  "kernelspec": {
   "display_name": "Python 3",
   "language": "python",
   "name": "python3"
  },
  "language_info": {
   "codemirror_mode": {
    "name": "ipython",
    "version": 3
   },
   "file_extension": ".py",
   "mimetype": "text/x-python",
   "name": "python",
   "nbconvert_exporter": "python",
   "pygments_lexer": "ipython3",
   "version": "3.6.2"
  }
 },
 "nbformat": 4,
 "nbformat_minor": 2
}
