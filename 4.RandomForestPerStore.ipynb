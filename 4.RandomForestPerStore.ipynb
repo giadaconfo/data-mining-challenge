{
 "cells": [
  {
   "cell_type": "markdown",
   "metadata": {},
   "source": [
    "# Random Forest Per Store"
   ]
  },
  {
   "cell_type": "code",
   "execution_count": 1,
   "metadata": {
    "collapsed": true
   },
   "outputs": [],
   "source": [
    "import pandas as pd\n",
    "import numpy as np\n",
    "from aux_fun import my_eval, r2_month\n",
    "from sklearn.model_selection import train_test_split\n",
    "from sklearn.metrics import r2_score\n",
    "from sklearn.ensemble import RandomForestRegressor\n",
    "import warnings\n",
    "warnings.filterwarnings('ignore')"
   ]
  },
  {
   "cell_type": "markdown",
   "metadata": {},
   "source": [
    "## Dropping problems, setting variables"
   ]
  },
  {
   "cell_type": "code",
   "execution_count": 2,
   "metadata": {
    "scrolled": false
   },
   "outputs": [
    {
     "data": {
      "text/html": [
       "<div>\n",
       "<style>\n",
       "    .dataframe thead tr:only-child th {\n",
       "        text-align: right;\n",
       "    }\n",
       "\n",
       "    .dataframe thead th {\n",
       "        text-align: left;\n",
       "    }\n",
       "\n",
       "    .dataframe tbody tr th {\n",
       "        vertical-align: top;\n",
       "    }\n",
       "</style>\n",
       "<table border=\"1\" class=\"dataframe\">\n",
       "  <thead>\n",
       "    <tr style=\"text-align: right;\">\n",
       "      <th></th>\n",
       "      <th>StoreID</th>\n",
       "      <th>IsHoliday</th>\n",
       "      <th>IsOpen</th>\n",
       "      <th>HasPromotions</th>\n",
       "      <th>NearestCompetitor</th>\n",
       "      <th>Region</th>\n",
       "      <th>NumberOfCustomers</th>\n",
       "      <th>NumberOfSales</th>\n",
       "      <th>Region_AreaKM2</th>\n",
       "      <th>Region_GDP</th>\n",
       "      <th>...</th>\n",
       "      <th>Day</th>\n",
       "      <th>Month</th>\n",
       "      <th>Year</th>\n",
       "      <th>Hyper_Market</th>\n",
       "      <th>Shopping_Center</th>\n",
       "      <th>Standard_Market</th>\n",
       "      <th>Super_Market</th>\n",
       "      <th>General</th>\n",
       "      <th>With_Fish_Department</th>\n",
       "      <th>With_Non-Food_Department</th>\n",
       "    </tr>\n",
       "  </thead>\n",
       "  <tbody>\n",
       "    <tr>\n",
       "      <th>0</th>\n",
       "      <td>1000</td>\n",
       "      <td>0</td>\n",
       "      <td>1</td>\n",
       "      <td>0</td>\n",
       "      <td>326</td>\n",
       "      <td>7</td>\n",
       "      <td>495</td>\n",
       "      <td>5676</td>\n",
       "      <td>9643</td>\n",
       "      <td>17130</td>\n",
       "      <td>...</td>\n",
       "      <td>1</td>\n",
       "      <td>3</td>\n",
       "      <td>2016</td>\n",
       "      <td>1</td>\n",
       "      <td>0</td>\n",
       "      <td>0</td>\n",
       "      <td>0</td>\n",
       "      <td>1</td>\n",
       "      <td>0</td>\n",
       "      <td>0</td>\n",
       "    </tr>\n",
       "    <tr>\n",
       "      <th>1</th>\n",
       "      <td>1000</td>\n",
       "      <td>0</td>\n",
       "      <td>1</td>\n",
       "      <td>0</td>\n",
       "      <td>326</td>\n",
       "      <td>7</td>\n",
       "      <td>608</td>\n",
       "      <td>8111</td>\n",
       "      <td>9643</td>\n",
       "      <td>17130</td>\n",
       "      <td>...</td>\n",
       "      <td>2</td>\n",
       "      <td>3</td>\n",
       "      <td>2016</td>\n",
       "      <td>1</td>\n",
       "      <td>0</td>\n",
       "      <td>0</td>\n",
       "      <td>0</td>\n",
       "      <td>1</td>\n",
       "      <td>0</td>\n",
       "      <td>0</td>\n",
       "    </tr>\n",
       "    <tr>\n",
       "      <th>2</th>\n",
       "      <td>1000</td>\n",
       "      <td>0</td>\n",
       "      <td>1</td>\n",
       "      <td>0</td>\n",
       "      <td>326</td>\n",
       "      <td>7</td>\n",
       "      <td>665</td>\n",
       "      <td>8300</td>\n",
       "      <td>9643</td>\n",
       "      <td>17130</td>\n",
       "      <td>...</td>\n",
       "      <td>4</td>\n",
       "      <td>3</td>\n",
       "      <td>2016</td>\n",
       "      <td>1</td>\n",
       "      <td>0</td>\n",
       "      <td>0</td>\n",
       "      <td>0</td>\n",
       "      <td>1</td>\n",
       "      <td>0</td>\n",
       "      <td>0</td>\n",
       "    </tr>\n",
       "    <tr>\n",
       "      <th>3</th>\n",
       "      <td>1000</td>\n",
       "      <td>0</td>\n",
       "      <td>1</td>\n",
       "      <td>0</td>\n",
       "      <td>326</td>\n",
       "      <td>7</td>\n",
       "      <td>630</td>\n",
       "      <td>7154</td>\n",
       "      <td>9643</td>\n",
       "      <td>17130</td>\n",
       "      <td>...</td>\n",
       "      <td>5</td>\n",
       "      <td>3</td>\n",
       "      <td>2016</td>\n",
       "      <td>1</td>\n",
       "      <td>0</td>\n",
       "      <td>0</td>\n",
       "      <td>0</td>\n",
       "      <td>1</td>\n",
       "      <td>0</td>\n",
       "      <td>0</td>\n",
       "    </tr>\n",
       "    <tr>\n",
       "      <th>4</th>\n",
       "      <td>1000</td>\n",
       "      <td>0</td>\n",
       "      <td>0</td>\n",
       "      <td>0</td>\n",
       "      <td>326</td>\n",
       "      <td>7</td>\n",
       "      <td>0</td>\n",
       "      <td>0</td>\n",
       "      <td>9643</td>\n",
       "      <td>17130</td>\n",
       "      <td>...</td>\n",
       "      <td>6</td>\n",
       "      <td>3</td>\n",
       "      <td>2016</td>\n",
       "      <td>1</td>\n",
       "      <td>0</td>\n",
       "      <td>0</td>\n",
       "      <td>0</td>\n",
       "      <td>1</td>\n",
       "      <td>0</td>\n",
       "      <td>0</td>\n",
       "    </tr>\n",
       "  </tbody>\n",
       "</table>\n",
       "<p>5 rows × 47 columns</p>\n",
       "</div>"
      ],
      "text/plain": [
       "   StoreID  IsHoliday  IsOpen  HasPromotions  NearestCompetitor  Region  \\\n",
       "0     1000          0       1              0                326       7   \n",
       "1     1000          0       1              0                326       7   \n",
       "2     1000          0       1              0                326       7   \n",
       "3     1000          0       1              0                326       7   \n",
       "4     1000          0       0              0                326       7   \n",
       "\n",
       "   NumberOfCustomers  NumberOfSales  Region_AreaKM2  Region_GDP  \\\n",
       "0                495           5676            9643       17130   \n",
       "1                608           8111            9643       17130   \n",
       "2                665           8300            9643       17130   \n",
       "3                630           7154            9643       17130   \n",
       "4                  0              0            9643       17130   \n",
       "\n",
       "             ...             Day  Month  Year  Hyper_Market  Shopping_Center  \\\n",
       "0            ...               1      3  2016             1                0   \n",
       "1            ...               2      3  2016             1                0   \n",
       "2            ...               4      3  2016             1                0   \n",
       "3            ...               5      3  2016             1                0   \n",
       "4            ...               6      3  2016             1                0   \n",
       "\n",
       "   Standard_Market  Super_Market  General  With_Fish_Department  \\\n",
       "0                0             0        1                     0   \n",
       "1                0             0        1                     0   \n",
       "2                0             0        1                     0   \n",
       "3                0             0        1                     0   \n",
       "4                0             0        1                     0   \n",
       "\n",
       "   With_Non-Food_Department  \n",
       "0                         0  \n",
       "1                         0  \n",
       "2                         0  \n",
       "3                         0  \n",
       "4                         0  \n",
       "\n",
       "[5 rows x 47 columns]"
      ]
     },
     "execution_count": 2,
     "metadata": {},
     "output_type": "execute_result"
    }
   ],
   "source": [
    "train_data = pd.read_csv('./data/train_imputed.csv')\n",
    "train_data.head()"
   ]
  },
  {
   "cell_type": "code",
   "execution_count": 3,
   "metadata": {
    "collapsed": true
   },
   "outputs": [],
   "source": [
    "X=train_data.drop(['NumberOfSales','WindDirDegrees','NumberOfCustomers'], axis=1)\n",
    "Y=train_data[['StoreID','NumberOfSales']]"
   ]
  },
  {
   "cell_type": "markdown",
   "metadata": {},
   "source": [
    "## Algorithm Evaluation"
   ]
  },
  {
   "cell_type": "code",
   "execution_count": 4,
   "metadata": {
    "collapsed": true
   },
   "outputs": [],
   "source": [
    "stores=X['StoreID'].unique().astype(int)\n",
    "nstores=len(stores)"
   ]
  },
  {
   "cell_type": "code",
   "execution_count": 5,
   "metadata": {
    "collapsed": true,
    "scrolled": false
   },
   "outputs": [],
   "source": [
    "ind_params = {'n_estimators' : 30}"
   ]
  },
  {
   "cell_type": "code",
   "execution_count": 6,
   "metadata": {},
   "outputs": [
    {
     "name": "stdout",
     "output_type": "stream",
     "text": [
      "Eval: 0 of 749 completed\n",
      "Eval: 100 of 749 completed\n",
      "Eval: 200 of 749 completed\n",
      "Eval: 300 of 749 completed\n",
      "Eval: 400 of 749 completed\n",
      "Eval: 500 of 749 completed\n",
      "Eval: 600 of 749 completed\n",
      "Eval: 700 of 749 completed\n"
     ]
    }
   ],
   "source": [
    "model=RandomForestRegressor(**ind_params)\n",
    "evaluations=0\n",
    "r2=0\n",
    "i=0\n",
    "y_pred=[]\n",
    "for store in stores:\n",
    "    if i%100==0:\n",
    "        print(\"Eval: \"+str(i)+\" of \"+str(nstores)+\" completed\")\n",
    "    \n",
    "    #Making sub-dataset\n",
    "    y_store=Y[Y['StoreID']==store].drop('StoreID',axis=1)\n",
    "    X_store=X[X['StoreID']==store]\n",
    "    X_train, X_test, y_train, y_test = train_test_split(X_store, y_store, test_size=0.2, random_state=42)\n",
    "    \n",
    "    #fitting the forest\n",
    "    model.fit(X_train, np.ravel(y_train))\n",
    "    y_pred.append(model.predict(X_test))\n",
    "\n",
    "    X_test['NumberOfSales'] = y_test\n",
    "\n",
    "    #Saving the dataset for evaluation\n",
    "    if(i==0):\n",
    "        X_test_history=X_test.copy()\n",
    "        y_test_history=y_test.copy()\n",
    "    else:\n",
    "        X_test_history=pd.concat([X_test_history,X_test], axis=0, ignore_index=True)\n",
    "        y_test_history=pd.concat([y_test_history,y_test], axis=0, ignore_index=True)\n",
    "    i+=1\n",
    "y_pred_history=np.concatenate(y_pred, axis=0)"
   ]
  },
  {
   "cell_type": "code",
   "execution_count": 7,
   "metadata": {},
   "outputs": [
    {
     "name": "stdout",
     "output_type": "stream",
     "text": [
      "Prediction Error: 0.0472165202764\n",
      "R2: 0.895671054977\n",
      "R2 Month: 0.991614816546\n"
     ]
    }
   ],
   "source": [
    "print(\"Prediction Error:\",my_eval(X_test_history, y_test_history, y_pred_history))\n",
    "print(\"R2:\",r2_score(y_test_history, y_pred_history))\n",
    "print(\"R2 Month:\",r2_month(X_test_history, y_test_history, y_pred_history))"
   ]
  }
 ],
 "metadata": {
  "kernelspec": {
   "display_name": "Python 3",
   "language": "python",
   "name": "python3"
  },
  "language_info": {
   "codemirror_mode": {
    "name": "ipython",
    "version": 3
   },
   "file_extension": ".py",
   "mimetype": "text/x-python",
   "name": "python",
   "nbconvert_exporter": "python",
   "pygments_lexer": "ipython3",
   "version": "3.6.3"
  }
 },
 "nbformat": 4,
 "nbformat_minor": 2
}
