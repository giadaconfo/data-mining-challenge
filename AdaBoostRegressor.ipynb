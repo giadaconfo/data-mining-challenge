{
 "cells": [
  {
   "cell_type": "code",
   "execution_count": 1,
   "metadata": {},
   "outputs": [],
   "source": [
    "import pandas as pd    \n",
    "pd.set_option('mode.chained_assignment', None)\n",
    "import numpy as np\n",
    "\n",
    "import sklearn\n",
    "from sklearn.model_selection import train_test_split\n",
    "from sklearn.metrics import mean_squared_error, r2_score\n",
    "from sklearn.ensemble import AdaBoostRegressor\n",
    "from sklearn.model_selection import GridSearchCV, KFold\n",
    "from sklearn.metrics import make_scorer\n",
    "\n",
    "from aux_fun import my_eval, my_grid_search_cv\n",
    "\n",
    "import json"
   ]
  },
  {
   "cell_type": "code",
   "execution_count": 2,
   "metadata": {},
   "outputs": [],
   "source": [
    "df = pd.read_csv('./data/train_imputed.csv')"
   ]
  },
  {
   "cell_type": "code",
   "execution_count": 3,
   "metadata": {},
   "outputs": [],
   "source": [
    "y = df['NumberOfSales']"
   ]
  },
  {
   "cell_type": "code",
   "execution_count": 4,
   "metadata": {},
   "outputs": [],
   "source": [
    "X = df.drop(df[['NumberOfSales','NumberOfCustomers', 'WindDirDegrees']], axis=1)"
   ]
  },
  {
   "cell_type": "markdown",
   "metadata": {},
   "source": [
    "# Train-Test Split"
   ]
  },
  {
   "cell_type": "code",
   "execution_count": 5,
   "metadata": {},
   "outputs": [],
   "source": [
    "X_train, X_test, y_train, y_test = train_test_split(X, y, test_size=0.2, random_state=42)"
   ]
  },
  {
   "cell_type": "code",
   "execution_count": 6,
   "metadata": {},
   "outputs": [],
   "source": [
    "X_train = X_train.reset_index(drop =True)\n",
    "y_train = y_train.reset_index(drop =True)"
   ]
  },
  {
   "cell_type": "markdown",
   "metadata": {},
   "source": [
    "# Find the combination with best parameters"
   ]
  },
  {
   "cell_type": "code",
   "execution_count": 7,
   "metadata": {},
   "outputs": [],
   "source": [
    "#parameters\n",
    "params_array = [\n",
    "    {'loss' : 'linear'},\n",
    "     {'loss' : 'square'},\n",
    "    {'loss' : 'exponential'},\n",
    "    {'n_estimators' : 50},  \n",
    "]"
   ]
  },
  {
   "cell_type": "code",
   "execution_count": null,
   "metadata": {},
   "outputs": [],
   "source": []
  },
  {
   "cell_type": "code",
   "execution_count": 8,
   "metadata": {
    "scrolled": false
   },
   "outputs": [],
   "source": [
    "results = my_grid_search_cv(AdaBoostRegressor(), params_array, X_train, y_train, n_folds=5)"
   ]
  },
  {
   "cell_type": "code",
   "execution_count": 9,
   "metadata": {},
   "outputs": [
    {
     "data": {
      "text/html": [
       "<div>\n",
       "<style>\n",
       "    .dataframe thead tr:only-child th {\n",
       "        text-align: right;\n",
       "    }\n",
       "\n",
       "    .dataframe thead th {\n",
       "        text-align: left;\n",
       "    }\n",
       "\n",
       "    .dataframe tbody tr th {\n",
       "        vertical-align: top;\n",
       "    }\n",
       "</style>\n",
       "<table border=\"1\" class=\"dataframe\">\n",
       "  <thead>\n",
       "    <tr style=\"text-align: right;\">\n",
       "      <th></th>\n",
       "      <th>Method</th>\n",
       "      <th>Folds</th>\n",
       "      <th>Parameters</th>\n",
       "      <th>Eval_test</th>\n",
       "      <th>R2</th>\n",
       "      <th>R2_month</th>\n",
       "    </tr>\n",
       "  </thead>\n",
       "  <tbody>\n",
       "    <tr>\n",
       "      <th>0</th>\n",
       "      <td>(DecisionTreeRegressor(criterion='mse', max_de...</td>\n",
       "      <td>5</td>\n",
       "      <td>{'loss': 'linear'}</td>\n",
       "      <td>0.435118</td>\n",
       "      <td>0.248521</td>\n",
       "      <td>0.084426</td>\n",
       "    </tr>\n",
       "    <tr>\n",
       "      <th>1</th>\n",
       "      <td>(DecisionTreeRegressor(criterion='mse', max_de...</td>\n",
       "      <td>5</td>\n",
       "      <td>{'loss': 'square'}</td>\n",
       "      <td>0.665756</td>\n",
       "      <td>-0.466864</td>\n",
       "      <td>-0.943168</td>\n",
       "    </tr>\n",
       "    <tr>\n",
       "      <th>2</th>\n",
       "      <td>(DecisionTreeRegressor(criterion='mse', max_de...</td>\n",
       "      <td>5</td>\n",
       "      <td>{'loss': 'exponential'}</td>\n",
       "      <td>0.812189</td>\n",
       "      <td>-0.798533</td>\n",
       "      <td>-1.696832</td>\n",
       "    </tr>\n",
       "    <tr>\n",
       "      <th>3</th>\n",
       "      <td>(DecisionTreeRegressor(criterion='mse', max_de...</td>\n",
       "      <td>5</td>\n",
       "      <td>{'n_estimators': 50}</td>\n",
       "      <td>0.485251</td>\n",
       "      <td>0.135233</td>\n",
       "      <td>-0.082367</td>\n",
       "    </tr>\n",
       "  </tbody>\n",
       "</table>\n",
       "</div>"
      ],
      "text/plain": [
       "                                              Method  Folds  \\\n",
       "0  (DecisionTreeRegressor(criterion='mse', max_de...      5   \n",
       "1  (DecisionTreeRegressor(criterion='mse', max_de...      5   \n",
       "2  (DecisionTreeRegressor(criterion='mse', max_de...      5   \n",
       "3  (DecisionTreeRegressor(criterion='mse', max_de...      5   \n",
       "\n",
       "                Parameters  Eval_test        R2  R2_month  \n",
       "0       {'loss': 'linear'}   0.435118  0.248521  0.084426  \n",
       "1       {'loss': 'square'}   0.665756 -0.466864 -0.943168  \n",
       "2  {'loss': 'exponential'}   0.812189 -0.798533 -1.696832  \n",
       "3     {'n_estimators': 50}   0.485251  0.135233 -0.082367  "
      ]
     },
     "execution_count": 9,
     "metadata": {},
     "output_type": "execute_result"
    }
   ],
   "source": [
    "results"
   ]
  },
  {
   "cell_type": "code",
   "execution_count": 10,
   "metadata": {},
   "outputs": [],
   "source": [
    "results.to_csv('AdaBoostRegressor.csv')"
   ]
  },
  {
   "cell_type": "markdown",
   "metadata": {},
   "source": [
    "# Model Building"
   ]
  },
  {
   "cell_type": "code",
   "execution_count": 11,
   "metadata": {},
   "outputs": [],
   "source": [
    "best_params = results[results['Eval_test']==min(results['Eval_test'])]['Parameters'].reset_index(drop =True)[0]"
   ]
  },
  {
   "cell_type": "code",
   "execution_count": 12,
   "metadata": {},
   "outputs": [
    {
     "data": {
      "text/plain": [
       "{'loss': 'linear'}"
      ]
     },
     "execution_count": 12,
     "metadata": {},
     "output_type": "execute_result"
    }
   ],
   "source": [
    "best_params"
   ]
  },
  {
   "cell_type": "code",
   "execution_count": 13,
   "metadata": {
    "scrolled": true
   },
   "outputs": [
    {
     "data": {
      "text/plain": [
       "AdaBoostRegressor(base_estimator=None, learning_rate=1.0, loss='linear',\n",
       "         n_estimators=50, random_state=None)"
      ]
     },
     "execution_count": 13,
     "metadata": {},
     "output_type": "execute_result"
    }
   ],
   "source": [
    "ABR = AdaBoostRegressor(**best_params)\n",
    "ABR.fit(X_train, y_train)"
   ]
  },
  {
   "cell_type": "code",
   "execution_count": 14,
   "metadata": {},
   "outputs": [],
   "source": [
    "y_pred = ABR.predict(X_test)"
   ]
  },
  {
   "cell_type": "code",
   "execution_count": 15,
   "metadata": {},
   "outputs": [
    {
     "name": "stdout",
     "output_type": "stream",
     "text": [
      "[ 7812.48395316     0.          8835.64667105 ...,  9027.61153465\n",
      "  9027.61153465     0.        ]\n"
     ]
    }
   ],
   "source": [
    "print(y_pred)"
   ]
  },
  {
   "cell_type": "code",
   "execution_count": 16,
   "metadata": {},
   "outputs": [
    {
     "name": "stdout",
     "output_type": "stream",
     "text": [
      "199480     3452\n",
      "492279        0\n",
      "500907     4679\n",
      "63763      5232\n",
      "74453         0\n",
      "393492     4237\n",
      "10444      3390\n",
      "375668    11558\n",
      "310103     2457\n",
      "248408     8679\n",
      "172477        0\n",
      "481334     4816\n",
      "141523     1766\n",
      "57856      3305\n",
      "19144      4121\n",
      "442714     2509\n",
      "198615     4005\n",
      "102388     5892\n",
      "201752     3889\n",
      "249986     6864\n",
      "385543        0\n",
      "126690     2853\n",
      "201562     5713\n",
      "494046     5668\n",
      "234057     4616\n",
      "83925      7623\n",
      "152551     4421\n",
      "421235     4196\n",
      "270066     5432\n",
      "153996     3371\n",
      "          ...  \n",
      "183905     3828\n",
      "67033      5458\n",
      "356838     5935\n",
      "37337         0\n",
      "1022       4483\n",
      "85432      4344\n",
      "236582        0\n",
      "12614      3003\n",
      "323110     5531\n",
      "317127     3944\n",
      "514921     4167\n",
      "310007        0\n",
      "215660        0\n",
      "406690     5104\n",
      "91533      7221\n",
      "303651        0\n",
      "353483     4606\n",
      "256305     4640\n",
      "24320      3252\n",
      "306740     3844\n",
      "240634     6042\n",
      "149711     3578\n",
      "309371     4153\n",
      "3414       4114\n",
      "298003     5717\n",
      "440202     5429\n",
      "71752      6420\n",
      "282435     5302\n",
      "263394     5104\n",
      "39            0\n",
      "Name: NumberOfSales, Length: 104605, dtype: int64\n"
     ]
    }
   ],
   "source": [
    "print(y_test)"
   ]
  },
  {
   "cell_type": "code",
   "execution_count": 17,
   "metadata": {},
   "outputs": [
    {
     "data": {
      "text/plain": [
       "0.58530257067638647"
      ]
     },
     "execution_count": 17,
     "metadata": {},
     "output_type": "execute_result"
    }
   ],
   "source": [
    "evaluation = my_eval(X_test, y_test, y_pred)\n",
    "evaluation"
   ]
  },
  {
   "cell_type": "code",
   "execution_count": 18,
   "metadata": {},
   "outputs": [
    {
     "data": {
      "text/plain": [
       "-0.16555613118640955"
      ]
     },
     "execution_count": 18,
     "metadata": {},
     "output_type": "execute_result"
    }
   ],
   "source": [
    "r2 = r2_score(y_test, y_pred)\n",
    "r2"
   ]
  },
  {
   "cell_type": "markdown",
   "metadata": {},
   "source": [
    "# Creation of the submission "
   ]
  },
  {
   "cell_type": "code",
   "execution_count": 19,
   "metadata": {},
   "outputs": [],
   "source": [
    "model_result={'method': 'AdaBoostRegressor',\n",
    "       'parameters':len(params_array),\n",
    "       'evaluation': evaluation, \n",
    "       'r2':r2,\n",
    "       'notes': 'None'\n",
    "    }"
   ]
  },
  {
   "cell_type": "code",
   "execution_count": 20,
   "metadata": {},
   "outputs": [],
   "source": [
    "with open('results.json', 'a') as fp:\n",
    "    json.dump(model_result, fp, indent=2)\n",
    "    fp.write('\\n')"
   ]
  },
  {
   "cell_type": "code",
   "execution_count": null,
   "metadata": {
    "collapsed": true
   },
   "outputs": [],
   "source": []
  },
  {
   "cell_type": "code",
   "execution_count": null,
   "metadata": {},
   "outputs": [],
   "source": []
  },
  {
   "cell_type": "markdown",
   "metadata": {},
   "source": [
    "# "
   ]
  }
 ],
 "metadata": {
  "anaconda-cloud": {},
  "kernelspec": {
   "display_name": "Python 3",
   "language": "python",
   "name": "python3"
  },
  "language_info": {
   "codemirror_mode": {
    "name": "ipython",
    "version": 3
   },
   "file_extension": ".py",
   "mimetype": "text/x-python",
   "name": "python",
   "nbconvert_exporter": "python",
   "pygments_lexer": "ipython3",
   "version": "3.6.2"
  }
 },
 "nbformat": 4,
 "nbformat_minor": 2
}
