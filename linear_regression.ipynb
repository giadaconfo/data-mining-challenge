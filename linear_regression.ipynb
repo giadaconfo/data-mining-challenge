{
 "cells": [
  {
   "cell_type": "code",
   "execution_count": 2,
   "metadata": {},
   "outputs": [],
   "source": [
    "import pandas as pd             \n",
    "import numpy as np\n",
    "\n",
    "import seaborn as sns\n",
    "sns.set(style=\"white\", color_codes=True)\n",
    "sns.set_context(rc={\"font.family\":'sans',\"font.size\":24,\"axes.titlesize\":24,\"axes.labelsize\":24})   \n",
    "\n",
    "import matplotlib.pyplot as plt\n",
    "%matplotlib inline\n",
    "\n",
    "import warnings \n",
    "warnings.filterwarnings(\"ignore\")\n",
    "\n",
    "import sklearn\n",
    "from sklearn import linear_model\n",
    "from sklearn.feature_selection import SelectKBest\n",
    "from sklearn.feature_selection import chi2, f_regression\n",
    "from sklearn.model_selection import cross_val_score\n",
    "from sklearn.model_selection import train_test_split\n",
    "from sklearn.feature_selection import RFE\n",
    "from sklearn.metrics import mean_squared_error, r2_score\n",
    "\n",
    "#from aux_fun import evaluate\n",
    "\n",
    "import csv"
   ]
  },
  {
   "cell_type": "code",
   "execution_count": 3,
   "metadata": {
    "collapsed": true
   },
   "outputs": [],
   "source": [
    "df = pd.read_csv('./data/train_imputed.csv')"
   ]
  },
  {
   "cell_type": "code",
   "execution_count": 4,
   "metadata": {},
   "outputs": [
    {
     "data": {
      "text/plain": [
       "(523021, 47)"
      ]
     },
     "execution_count": 4,
     "metadata": {},
     "output_type": "execute_result"
    }
   ],
   "source": [
    "df.shape"
   ]
  },
  {
   "cell_type": "code",
   "execution_count": 5,
   "metadata": {},
   "outputs": [
    {
     "data": {
      "text/html": [
       "<div>\n",
       "<style>\n",
       "    .dataframe thead tr:only-child th {\n",
       "        text-align: right;\n",
       "    }\n",
       "\n",
       "    .dataframe thead th {\n",
       "        text-align: left;\n",
       "    }\n",
       "\n",
       "    .dataframe tbody tr th {\n",
       "        vertical-align: top;\n",
       "    }\n",
       "</style>\n",
       "<table border=\"1\" class=\"dataframe\">\n",
       "  <thead>\n",
       "    <tr style=\"text-align: right;\">\n",
       "      <th></th>\n",
       "      <th>StoreID</th>\n",
       "      <th>IsHoliday</th>\n",
       "      <th>IsOpen</th>\n",
       "      <th>HasPromotions</th>\n",
       "      <th>NearestCompetitor</th>\n",
       "      <th>Region</th>\n",
       "      <th>NumberOfCustomers</th>\n",
       "      <th>NumberOfSales</th>\n",
       "      <th>Region_AreaKM2</th>\n",
       "      <th>Region_GDP</th>\n",
       "      <th>...</th>\n",
       "      <th>Day</th>\n",
       "      <th>Month</th>\n",
       "      <th>Year</th>\n",
       "      <th>Hyper_Market</th>\n",
       "      <th>Shopping_Center</th>\n",
       "      <th>Standard_Market</th>\n",
       "      <th>Super_Market</th>\n",
       "      <th>General</th>\n",
       "      <th>With_Fish_Department</th>\n",
       "      <th>With_Non-Food_Department</th>\n",
       "    </tr>\n",
       "  </thead>\n",
       "  <tbody>\n",
       "    <tr>\n",
       "      <th>0</th>\n",
       "      <td>1000</td>\n",
       "      <td>0</td>\n",
       "      <td>1</td>\n",
       "      <td>0</td>\n",
       "      <td>326</td>\n",
       "      <td>7</td>\n",
       "      <td>495</td>\n",
       "      <td>5676</td>\n",
       "      <td>9643</td>\n",
       "      <td>17130</td>\n",
       "      <td>...</td>\n",
       "      <td>3</td>\n",
       "      <td>1</td>\n",
       "      <td>2016</td>\n",
       "      <td>1</td>\n",
       "      <td>0</td>\n",
       "      <td>0</td>\n",
       "      <td>0</td>\n",
       "      <td>1</td>\n",
       "      <td>0</td>\n",
       "      <td>0</td>\n",
       "    </tr>\n",
       "    <tr>\n",
       "      <th>1</th>\n",
       "      <td>1000</td>\n",
       "      <td>0</td>\n",
       "      <td>1</td>\n",
       "      <td>0</td>\n",
       "      <td>326</td>\n",
       "      <td>7</td>\n",
       "      <td>608</td>\n",
       "      <td>8111</td>\n",
       "      <td>9643</td>\n",
       "      <td>17130</td>\n",
       "      <td>...</td>\n",
       "      <td>3</td>\n",
       "      <td>2</td>\n",
       "      <td>2016</td>\n",
       "      <td>1</td>\n",
       "      <td>0</td>\n",
       "      <td>0</td>\n",
       "      <td>0</td>\n",
       "      <td>1</td>\n",
       "      <td>0</td>\n",
       "      <td>0</td>\n",
       "    </tr>\n",
       "    <tr>\n",
       "      <th>2</th>\n",
       "      <td>1000</td>\n",
       "      <td>0</td>\n",
       "      <td>1</td>\n",
       "      <td>0</td>\n",
       "      <td>326</td>\n",
       "      <td>7</td>\n",
       "      <td>665</td>\n",
       "      <td>8300</td>\n",
       "      <td>9643</td>\n",
       "      <td>17130</td>\n",
       "      <td>...</td>\n",
       "      <td>3</td>\n",
       "      <td>4</td>\n",
       "      <td>2016</td>\n",
       "      <td>1</td>\n",
       "      <td>0</td>\n",
       "      <td>0</td>\n",
       "      <td>0</td>\n",
       "      <td>1</td>\n",
       "      <td>0</td>\n",
       "      <td>0</td>\n",
       "    </tr>\n",
       "    <tr>\n",
       "      <th>3</th>\n",
       "      <td>1000</td>\n",
       "      <td>0</td>\n",
       "      <td>1</td>\n",
       "      <td>0</td>\n",
       "      <td>326</td>\n",
       "      <td>7</td>\n",
       "      <td>630</td>\n",
       "      <td>7154</td>\n",
       "      <td>9643</td>\n",
       "      <td>17130</td>\n",
       "      <td>...</td>\n",
       "      <td>3</td>\n",
       "      <td>5</td>\n",
       "      <td>2016</td>\n",
       "      <td>1</td>\n",
       "      <td>0</td>\n",
       "      <td>0</td>\n",
       "      <td>0</td>\n",
       "      <td>1</td>\n",
       "      <td>0</td>\n",
       "      <td>0</td>\n",
       "    </tr>\n",
       "    <tr>\n",
       "      <th>4</th>\n",
       "      <td>1000</td>\n",
       "      <td>0</td>\n",
       "      <td>0</td>\n",
       "      <td>0</td>\n",
       "      <td>326</td>\n",
       "      <td>7</td>\n",
       "      <td>0</td>\n",
       "      <td>0</td>\n",
       "      <td>9643</td>\n",
       "      <td>17130</td>\n",
       "      <td>...</td>\n",
       "      <td>3</td>\n",
       "      <td>6</td>\n",
       "      <td>2016</td>\n",
       "      <td>1</td>\n",
       "      <td>0</td>\n",
       "      <td>0</td>\n",
       "      <td>0</td>\n",
       "      <td>1</td>\n",
       "      <td>0</td>\n",
       "      <td>0</td>\n",
       "    </tr>\n",
       "  </tbody>\n",
       "</table>\n",
       "<p>5 rows × 47 columns</p>\n",
       "</div>"
      ],
      "text/plain": [
       "   StoreID  IsHoliday  IsOpen  HasPromotions  NearestCompetitor  Region  \\\n",
       "0     1000          0       1              0                326       7   \n",
       "1     1000          0       1              0                326       7   \n",
       "2     1000          0       1              0                326       7   \n",
       "3     1000          0       1              0                326       7   \n",
       "4     1000          0       0              0                326       7   \n",
       "\n",
       "   NumberOfCustomers  NumberOfSales  Region_AreaKM2  Region_GDP  \\\n",
       "0                495           5676            9643       17130   \n",
       "1                608           8111            9643       17130   \n",
       "2                665           8300            9643       17130   \n",
       "3                630           7154            9643       17130   \n",
       "4                  0              0            9643       17130   \n",
       "\n",
       "             ...             Day  Month  Year  Hyper_Market  Shopping_Center  \\\n",
       "0            ...               3      1  2016             1                0   \n",
       "1            ...               3      2  2016             1                0   \n",
       "2            ...               3      4  2016             1                0   \n",
       "3            ...               3      5  2016             1                0   \n",
       "4            ...               3      6  2016             1                0   \n",
       "\n",
       "   Standard_Market  Super_Market  General  With_Fish_Department  \\\n",
       "0                0             0        1                     0   \n",
       "1                0             0        1                     0   \n",
       "2                0             0        1                     0   \n",
       "3                0             0        1                     0   \n",
       "4                0             0        1                     0   \n",
       "\n",
       "   With_Non-Food_Department  \n",
       "0                         0  \n",
       "1                         0  \n",
       "2                         0  \n",
       "3                         0  \n",
       "4                         0  \n",
       "\n",
       "[5 rows x 47 columns]"
      ]
     },
     "execution_count": 5,
     "metadata": {},
     "output_type": "execute_result"
    }
   ],
   "source": [
    "df.head()"
   ]
  },
  {
   "cell_type": "code",
   "execution_count": 6,
   "metadata": {},
   "outputs": [
    {
     "data": {
      "text/plain": [
       "Index(['StoreID', 'IsHoliday', 'IsOpen', 'HasPromotions', 'NearestCompetitor',\n",
       "       'Region', 'NumberOfCustomers', 'NumberOfSales', 'Region_AreaKM2',\n",
       "       'Region_GDP', 'Region_PopulationK', 'Max_Dew_PointC',\n",
       "       'Max_Gust_SpeedKm_h', 'Max_Humidity', 'Max_Sea_Level_PressurehPa',\n",
       "       'Max_TemperatureC', 'Max_Wind_SpeedKm_h', 'Mean_Dew_PointC',\n",
       "       'Mean_Humidity', 'Mean_Sea_Level_PressurehPa', 'Mean_TemperatureC',\n",
       "       'Mean_Wind_SpeedKm_h', 'Min_Dew_PointC', 'Min_Humidity',\n",
       "       'Min_Sea_Level_PressurehPa', 'Min_TemperatureC', 'Precipitationmm',\n",
       "       'WindDirDegrees', 'CloudCover', 'Fog', 'Hail', 'Rain', 'Snow',\n",
       "       'Thunderstorm', 'Max_VisibilityKm', 'Min_VisibilitykM',\n",
       "       'Mean_VisibilityKm', 'Day', 'Month', 'Year', 'Hyper_Market',\n",
       "       'Shopping_Center', 'Standard_Market', 'Super_Market', 'General',\n",
       "       'With_Fish_Department', 'With_Non-Food_Department'],\n",
       "      dtype='object')"
      ]
     },
     "execution_count": 6,
     "metadata": {},
     "output_type": "execute_result"
    }
   ],
   "source": [
    "df.columns"
   ]
  },
  {
   "cell_type": "code",
   "execution_count": 7,
   "metadata": {},
   "outputs": [],
   "source": [
    "y = df['NumberOfSales']"
   ]
  },
  {
   "cell_type": "code",
   "execution_count": 8,
   "metadata": {},
   "outputs": [],
   "source": [
    "X = df.drop(df[['NumberOfSales', 'WindDirDegrees']], axis=1)"
   ]
  },
  {
   "cell_type": "markdown",
   "metadata": {},
   "source": [
    "# Train-Test Split"
   ]
  },
  {
   "cell_type": "code",
   "execution_count": 9,
   "metadata": {},
   "outputs": [],
   "source": [
    "X_train, X_test, y_train, y_test = train_test_split(X, y, test_size=0.2, random_state=42)"
   ]
  },
  {
   "cell_type": "markdown",
   "metadata": {},
   "source": [
    "# Feature Selection\n",
    "\n",
    "## NOT WORKING"
   ]
  },
  {
   "cell_type": "code",
   "execution_count": 10,
   "metadata": {},
   "outputs": [],
   "source": [
    "rfe = RFE(linear_model.LinearRegression(), 3) #10 is the number of features to consider\n",
    "fit = rfe.fit(X_train, y_train)"
   ]
  },
  {
   "cell_type": "code",
   "execution_count": 11,
   "metadata": {},
   "outputs": [
    {
     "data": {
      "text/plain": [
       "array([False, False, False, False, False, False, False, False, False,\n",
       "       False, False, False, False, False, False, False, False, False,\n",
       "       False, False, False, False, False, False, False, False, False,\n",
       "       False, False, False, False, False, False, False, False, False,\n",
       "       False, False,  True, False,  True,  True, False, False, False], dtype=bool)"
      ]
     },
     "execution_count": 11,
     "metadata": {},
     "output_type": "execute_result"
    }
   ],
   "source": [
    "feature_mask = fit.get_support() #mask of the chosen features\n",
    "feature_mask"
   ]
  },
  {
   "cell_type": "code",
   "execution_count": 12,
   "metadata": {
    "scrolled": true
   },
   "outputs": [
    {
     "data": {
      "text/plain": [
       "Index(['Hyper_Market', 'Standard_Market', 'Super_Market'], dtype='object')"
      ]
     },
     "execution_count": 12,
     "metadata": {},
     "output_type": "execute_result"
    }
   ],
   "source": [
    "feature_selected =X_train.columns[feature_mask]\n",
    "feature_selected"
   ]
  },
  {
   "cell_type": "markdown",
   "metadata": {},
   "source": [
    "# Model Creation"
   ]
  },
  {
   "cell_type": "markdown",
   "metadata": {},
   "source": [
    "## OLS"
   ]
  },
  {
   "cell_type": "code",
   "execution_count": 13,
   "metadata": {},
   "outputs": [
    {
     "data": {
      "text/plain": [
       "Index(['StoreID', 'IsHoliday', 'IsOpen', 'HasPromotions', 'NearestCompetitor',\n",
       "       'Region', 'NumberOfCustomers', 'Region_AreaKM2', 'Region_GDP',\n",
       "       'Region_PopulationK', 'Max_Dew_PointC', 'Max_Gust_SpeedKm_h',\n",
       "       'Max_Humidity', 'Max_Sea_Level_PressurehPa', 'Max_TemperatureC',\n",
       "       'Max_Wind_SpeedKm_h', 'Mean_Dew_PointC', 'Mean_Humidity',\n",
       "       'Mean_Sea_Level_PressurehPa', 'Mean_TemperatureC',\n",
       "       'Mean_Wind_SpeedKm_h', 'Min_Dew_PointC', 'Min_Humidity',\n",
       "       'Min_Sea_Level_PressurehPa', 'Min_TemperatureC', 'Precipitationmm',\n",
       "       'CloudCover', 'Fog', 'Hail', 'Rain', 'Snow', 'Thunderstorm',\n",
       "       'Max_VisibilityKm', 'Min_VisibilitykM', 'Mean_VisibilityKm', 'Day',\n",
       "       'Month', 'Year', 'Hyper_Market', 'Shopping_Center', 'Standard_Market',\n",
       "       'Super_Market', 'General', 'With_Fish_Department',\n",
       "       'With_Non-Food_Department'],\n",
       "      dtype='object')"
      ]
     },
     "execution_count": 13,
     "metadata": {},
     "output_type": "execute_result"
    }
   ],
   "source": [
    "X_train.columns"
   ]
  },
  {
   "cell_type": "code",
   "execution_count": 14,
   "metadata": {},
   "outputs": [],
   "source": [
    "regr = linear_model.LinearRegression()"
   ]
  },
  {
   "cell_type": "code",
   "execution_count": 15,
   "metadata": {},
   "outputs": [
    {
     "data": {
      "text/plain": [
       "LinearRegression(copy_X=True, fit_intercept=True, n_jobs=1, normalize=False)"
      ]
     },
     "execution_count": 15,
     "metadata": {},
     "output_type": "execute_result"
    }
   ],
   "source": [
    "regr.fit(X_train['NumberOfCustomers'].reshape(-1, 1), y_train)"
   ]
  },
  {
   "cell_type": "code",
   "execution_count": 16,
   "metadata": {},
   "outputs": [],
   "source": [
    "y_pred = regr.predict(X_test['NumberOfCustomers'].reshape(-1, 1))"
   ]
  },
  {
   "cell_type": "code",
   "execution_count": 17,
   "metadata": {},
   "outputs": [
    {
     "name": "stdout",
     "output_type": "stream",
     "text": [
      "Coefficients: \n",
      " [ 13.3448609]\n"
     ]
    }
   ],
   "source": [
    "print('Coefficients: \\n', regr.coef_)\n",
    "#The mean squared error"
   ]
  },
  {
   "cell_type": "markdown",
   "metadata": {},
   "source": [
    "## Lasso"
   ]
  },
  {
   "cell_type": "code",
   "execution_count": 18,
   "metadata": {},
   "outputs": [],
   "source": [
    "lasso = linear_model.Lasso(0.01, normalize=True)"
   ]
  },
  {
   "cell_type": "code",
   "execution_count": 19,
   "metadata": {},
   "outputs": [
    {
     "data": {
      "text/plain": [
       "Lasso(alpha=0.01, copy_X=True, fit_intercept=True, max_iter=1000,\n",
       "   normalize=True, positive=False, precompute=False, random_state=None,\n",
       "   selection='cyclic', tol=0.0001, warm_start=False)"
      ]
     },
     "execution_count": 19,
     "metadata": {},
     "output_type": "execute_result"
    }
   ],
   "source": [
    "lasso.fit(X_train, y_train)"
   ]
  },
  {
   "cell_type": "code",
   "execution_count": 20,
   "metadata": {},
   "outputs": [],
   "source": [
    "y_pred_lasso = lasso.predict(X_test)"
   ]
  },
  {
   "cell_type": "code",
   "execution_count": 21,
   "metadata": {},
   "outputs": [
    {
     "data": {
      "text/plain": [
       "array([ 4154.18319127,   -82.18713212,  4772.11054264, ...,  6060.33915427,\n",
       "        6333.42289979,  -353.03471754])"
      ]
     },
     "execution_count": 21,
     "metadata": {},
     "output_type": "execute_result"
    }
   ],
   "source": [
    "y_pred_lasso"
   ]
  },
  {
   "cell_type": "markdown",
   "metadata": {},
   "source": [
    "## Lasso CV"
   ]
  },
  {
   "cell_type": "code",
   "execution_count": 22,
   "metadata": {},
   "outputs": [],
   "source": [
    "alphas = [0.00001, 0.0001, 0.001, 0.01, 0.1]\n"
   ]
  },
  {
   "cell_type": "code",
   "execution_count": 23,
   "metadata": {
    "collapsed": true
   },
   "outputs": [],
   "source": [
    "lassocv = linear_model.LassoCV(eps=0.001, n_alphas=100, alphas=alphas, fit_intercept=True, normalize=False, max_iter=10000,  cv=10)"
   ]
  },
  {
   "cell_type": "code",
   "execution_count": 24,
   "metadata": {},
   "outputs": [
    {
     "data": {
      "text/plain": [
       "LassoCV(alphas=[1e-05, 0.0001, 0.001, 0.01, 0.1], copy_X=True, cv=10,\n",
       "    eps=0.001, fit_intercept=True, max_iter=10000, n_alphas=100, n_jobs=1,\n",
       "    normalize=False, positive=False, precompute='auto', random_state=None,\n",
       "    selection='cyclic', tol=0.0001, verbose=False)"
      ]
     },
     "execution_count": 24,
     "metadata": {},
     "output_type": "execute_result"
    }
   ],
   "source": [
    "lassocv.fit(X_train, y_train)"
   ]
  },
  {
   "cell_type": "code",
   "execution_count": 25,
   "metadata": {},
   "outputs": [],
   "source": [
    "y_pred_lassocv = lassocv.predict(X_test)"
   ]
  },
  {
   "cell_type": "code",
   "execution_count": 26,
   "metadata": {},
   "outputs": [
    {
     "data": {
      "text/plain": [
       "0.01"
      ]
     },
     "execution_count": 26,
     "metadata": {},
     "output_type": "execute_result"
    }
   ],
   "source": [
    "lassocv.alpha_"
   ]
  },
  {
   "cell_type": "markdown",
   "metadata": {},
   "source": [
    "# Creation of the submission "
   ]
  },
  {
   "cell_type": "code",
   "execution_count": 27,
   "metadata": {},
   "outputs": [],
   "source": [
    "result = pd.DataFrame(X_test['StoreID'])\n",
    "result['Month']=X_test['Month']\n",
    "result['NumberOfSales'] = y_pred\n",
    "#Group by Month\n",
    "result =result.groupby(['StoreID','Month'], as_index=False)['NumberOfSales'].sum()"
   ]
  },
  {
   "cell_type": "code",
   "execution_count": 28,
   "metadata": {},
   "outputs": [],
   "source": [
    "result_lasso = pd.DataFrame(X_test['StoreID'])\n",
    "result_lasso['Month']=X_test['Month']\n",
    "result_lasso['NumberOfSales'] = y_pred_lasso\n",
    "#Group by Month\n",
    "result_lasso =result_lasso.groupby(['StoreID','Month'], as_index=False)['NumberOfSales'].sum()"
   ]
  },
  {
   "cell_type": "code",
   "execution_count": 29,
   "metadata": {
    "collapsed": true
   },
   "outputs": [],
   "source": [
    "result_lassocv = pd.DataFrame(X_test['StoreID'])\n",
    "result_lassocv['Month']=X_test['Month']\n",
    "result_lassocv['NumberOfSales'] = y_pred_lassocv\n",
    "#Group by Month\n",
    "result_lassocv =result_lassocv.groupby(['StoreID','Month'], as_index=False)['NumberOfSales'].sum()"
   ]
  },
  {
   "cell_type": "code",
   "execution_count": 30,
   "metadata": {},
   "outputs": [],
   "source": [
    "X_test['NumberOfSales']= y_test"
   ]
  },
  {
   "cell_type": "code",
   "execution_count": 31,
   "metadata": {},
   "outputs": [
    {
     "data": {
      "text/html": [
       "<div>\n",
       "<style>\n",
       "    .dataframe thead tr:only-child th {\n",
       "        text-align: right;\n",
       "    }\n",
       "\n",
       "    .dataframe thead th {\n",
       "        text-align: left;\n",
       "    }\n",
       "\n",
       "    .dataframe tbody tr th {\n",
       "        vertical-align: top;\n",
       "    }\n",
       "</style>\n",
       "<table border=\"1\" class=\"dataframe\">\n",
       "  <thead>\n",
       "    <tr style=\"text-align: right;\">\n",
       "      <th></th>\n",
       "      <th>StoreID</th>\n",
       "      <th>IsHoliday</th>\n",
       "      <th>IsOpen</th>\n",
       "      <th>HasPromotions</th>\n",
       "      <th>NearestCompetitor</th>\n",
       "      <th>Region</th>\n",
       "      <th>NumberOfCustomers</th>\n",
       "      <th>Region_AreaKM2</th>\n",
       "      <th>Region_GDP</th>\n",
       "      <th>Region_PopulationK</th>\n",
       "      <th>...</th>\n",
       "      <th>Month</th>\n",
       "      <th>Year</th>\n",
       "      <th>Hyper_Market</th>\n",
       "      <th>Shopping_Center</th>\n",
       "      <th>Standard_Market</th>\n",
       "      <th>Super_Market</th>\n",
       "      <th>General</th>\n",
       "      <th>With_Fish_Department</th>\n",
       "      <th>With_Non-Food_Department</th>\n",
       "      <th>NumberOfSales</th>\n",
       "    </tr>\n",
       "  </thead>\n",
       "  <tbody>\n",
       "    <tr>\n",
       "      <th>199480</th>\n",
       "      <td>1284</td>\n",
       "      <td>0</td>\n",
       "      <td>1</td>\n",
       "      <td>1</td>\n",
       "      <td>1145</td>\n",
       "      <td>6</td>\n",
       "      <td>245</td>\n",
       "      <td>16327</td>\n",
       "      <td>15931</td>\n",
       "      <td>4911</td>\n",
       "      <td>...</td>\n",
       "      <td>2</td>\n",
       "      <td>2017</td>\n",
       "      <td>1</td>\n",
       "      <td>0</td>\n",
       "      <td>0</td>\n",
       "      <td>0</td>\n",
       "      <td>1</td>\n",
       "      <td>0</td>\n",
       "      <td>0</td>\n",
       "      <td>3452</td>\n",
       "    </tr>\n",
       "    <tr>\n",
       "      <th>492279</th>\n",
       "      <td>1705</td>\n",
       "      <td>0</td>\n",
       "      <td>0</td>\n",
       "      <td>0</td>\n",
       "      <td>3482</td>\n",
       "      <td>2</td>\n",
       "      <td>0</td>\n",
       "      <td>32221</td>\n",
       "      <td>16186</td>\n",
       "      <td>5727</td>\n",
       "      <td>...</td>\n",
       "      <td>4</td>\n",
       "      <td>2016</td>\n",
       "      <td>1</td>\n",
       "      <td>0</td>\n",
       "      <td>0</td>\n",
       "      <td>0</td>\n",
       "      <td>1</td>\n",
       "      <td>0</td>\n",
       "      <td>0</td>\n",
       "      <td>0</td>\n",
       "    </tr>\n",
       "    <tr>\n",
       "      <th>500907</th>\n",
       "      <td>1717</td>\n",
       "      <td>0</td>\n",
       "      <td>1</td>\n",
       "      <td>1</td>\n",
       "      <td>3029</td>\n",
       "      <td>2</td>\n",
       "      <td>252</td>\n",
       "      <td>32221</td>\n",
       "      <td>16186</td>\n",
       "      <td>5727</td>\n",
       "      <td>...</td>\n",
       "      <td>6</td>\n",
       "      <td>2017</td>\n",
       "      <td>1</td>\n",
       "      <td>0</td>\n",
       "      <td>0</td>\n",
       "      <td>0</td>\n",
       "      <td>0</td>\n",
       "      <td>0</td>\n",
       "      <td>1</td>\n",
       "      <td>4679</td>\n",
       "    </tr>\n",
       "    <tr>\n",
       "      <th>63763</th>\n",
       "      <td>1091</td>\n",
       "      <td>0</td>\n",
       "      <td>1</td>\n",
       "      <td>0</td>\n",
       "      <td>7337</td>\n",
       "      <td>9</td>\n",
       "      <td>351</td>\n",
       "      <td>15566</td>\n",
       "      <td>15017</td>\n",
       "      <td>8146</td>\n",
       "      <td>...</td>\n",
       "      <td>1</td>\n",
       "      <td>2016</td>\n",
       "      <td>1</td>\n",
       "      <td>0</td>\n",
       "      <td>0</td>\n",
       "      <td>0</td>\n",
       "      <td>0</td>\n",
       "      <td>0</td>\n",
       "      <td>1</td>\n",
       "      <td>5232</td>\n",
       "    </tr>\n",
       "    <tr>\n",
       "      <th>74453</th>\n",
       "      <td>1107</td>\n",
       "      <td>0</td>\n",
       "      <td>0</td>\n",
       "      <td>0</td>\n",
       "      <td>22406</td>\n",
       "      <td>1</td>\n",
       "      <td>0</td>\n",
       "      <td>7385</td>\n",
       "      <td>9893</td>\n",
       "      <td>1018</td>\n",
       "      <td>...</td>\n",
       "      <td>10</td>\n",
       "      <td>2016</td>\n",
       "      <td>0</td>\n",
       "      <td>0</td>\n",
       "      <td>1</td>\n",
       "      <td>0</td>\n",
       "      <td>0</td>\n",
       "      <td>0</td>\n",
       "      <td>1</td>\n",
       "      <td>0</td>\n",
       "    </tr>\n",
       "  </tbody>\n",
       "</table>\n",
       "<p>5 rows × 46 columns</p>\n",
       "</div>"
      ],
      "text/plain": [
       "        StoreID  IsHoliday  IsOpen  HasPromotions  NearestCompetitor  Region  \\\n",
       "199480     1284          0       1              1               1145       6   \n",
       "492279     1705          0       0              0               3482       2   \n",
       "500907     1717          0       1              1               3029       2   \n",
       "63763      1091          0       1              0               7337       9   \n",
       "74453      1107          0       0              0              22406       1   \n",
       "\n",
       "        NumberOfCustomers  Region_AreaKM2  Region_GDP  Region_PopulationK  \\\n",
       "199480                245           16327       15931                4911   \n",
       "492279                  0           32221       16186                5727   \n",
       "500907                252           32221       16186                5727   \n",
       "63763                 351           15566       15017                8146   \n",
       "74453                   0            7385        9893                1018   \n",
       "\n",
       "            ...        Month  Year  Hyper_Market  Shopping_Center  \\\n",
       "199480      ...            2  2017             1                0   \n",
       "492279      ...            4  2016             1                0   \n",
       "500907      ...            6  2017             1                0   \n",
       "63763       ...            1  2016             1                0   \n",
       "74453       ...           10  2016             0                0   \n",
       "\n",
       "        Standard_Market  Super_Market  General  With_Fish_Department  \\\n",
       "199480                0             0        1                     0   \n",
       "492279                0             0        1                     0   \n",
       "500907                0             0        0                     0   \n",
       "63763                 0             0        0                     0   \n",
       "74453                 1             0        0                     0   \n",
       "\n",
       "        With_Non-Food_Department  NumberOfSales  \n",
       "199480                         0           3452  \n",
       "492279                         0              0  \n",
       "500907                         1           4679  \n",
       "63763                          1           5232  \n",
       "74453                          1              0  \n",
       "\n",
       "[5 rows x 46 columns]"
      ]
     },
     "execution_count": 31,
     "metadata": {},
     "output_type": "execute_result"
    }
   ],
   "source": [
    "X_test.head()"
   ]
  },
  {
   "cell_type": "markdown",
   "metadata": {},
   "source": [
    "### Error function given"
   ]
  },
  {
   "cell_type": "code",
   "execution_count": 32,
   "metadata": {
    "collapsed": true
   },
   "outputs": [
    {
     "ename": "ImportError",
     "evalue": "cannot import name 'evaluate'",
     "output_type": "error",
     "traceback": [
      "\u001b[0;31m---------------------------------------------------------------------------\u001b[0m",
      "\u001b[0;31mImportError\u001b[0m                               Traceback (most recent call last)",
      "\u001b[0;32m<ipython-input-32-4331e1b0bfcc>\u001b[0m in \u001b[0;36m<module>\u001b[0;34m()\u001b[0m\n\u001b[0;32m----> 1\u001b[0;31m \u001b[0;32mfrom\u001b[0m \u001b[0maux_fun\u001b[0m \u001b[0;32mimport\u001b[0m \u001b[0mevaluate\u001b[0m\u001b[0;34m\u001b[0m\u001b[0m\n\u001b[0m",
      "\u001b[0;31mImportError\u001b[0m: cannot import name 'evaluate'"
     ]
    }
   ],
   "source": [
    "from aux_fun import evaluate"
   ]
  },
  {
   "cell_type": "code",
   "execution_count": null,
   "metadata": {},
   "outputs": [],
   "source": [
    "X_test.columns"
   ]
  },
  {
   "cell_type": "code",
   "execution_count": null,
   "metadata": {},
   "outputs": [],
   "source": [
    "eval_lr =evaluate(X_test,result)\n",
    "eval_lasso = evaluate(X_test,result_lasso)\n",
    "eval_lassocv = evaluate(X_test,result_lassocv)"
   ]
  },
  {
   "cell_type": "code",
   "execution_count": null,
   "metadata": {},
   "outputs": [],
   "source": [
    "print('Linear Regression Error on Number of Customers: ', eval_lr)\n",
    "print('Lasso Error: ',  eval_lasso)\n",
    "print('Lasso CV Error: ', eval_lassocv)"
   ]
  },
  {
   "cell_type": "markdown",
   "metadata": {},
   "source": [
    "### R2"
   ]
  },
  {
   "cell_type": "code",
   "execution_count": null,
   "metadata": {
    "collapsed": true
   },
   "outputs": [],
   "source": [
    "r2_lr = r2_score(y_test, y_pred)\n",
    "r2_lasso =r2_score(y_test, y_pred_lasso)\n",
    "r2_lassocv = r2_score(y_test, y_pred_lassocv)"
   ]
  },
  {
   "cell_type": "code",
   "execution_count": null,
   "metadata": {},
   "outputs": [],
   "source": [
    "print('Linear Regression R2: ', r2_lr)\n",
    "print('Lasso R2: ',  r2_lasso)\n",
    "print('Lasso CV R2: ', r2_lassocv)"
   ]
  },
  {
   "cell_type": "code",
   "execution_count": null,
   "metadata": {
    "collapsed": true
   },
   "outputs": [],
   "source": []
  },
  {
   "cell_type": "code",
   "execution_count": null,
   "metadata": {},
   "outputs": [],
   "source": []
  }
 ],
 "metadata": {
  "anaconda-cloud": {},
  "kernelspec": {
   "display_name": "Python 3",
   "language": "python",
   "name": "python3"
  },
  "language_info": {
   "codemirror_mode": {
    "name": "ipython",
    "version": 3
   },
   "file_extension": ".py",
   "mimetype": "text/x-python",
   "name": "python",
   "nbconvert_exporter": "python",
   "pygments_lexer": "ipython3",
   "version": "3.6.2"
  }
 },
 "nbformat": 4,
 "nbformat_minor": 2
}
