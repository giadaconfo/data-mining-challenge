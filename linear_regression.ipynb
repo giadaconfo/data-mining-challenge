{
 "cells": [
  {
   "cell_type": "code",
   "execution_count": 57,
   "metadata": {
    "collapsed": true
   },
   "outputs": [],
   "source": [
    "import pandas as pd             \n",
    "import numpy as np\n",
    "\n",
    "import seaborn as sns\n",
    "sns.set(style=\"white\", color_codes=True)\n",
    "sns.set_context(rc={\"font.family\":'sans',\"font.size\":24,\"axes.titlesize\":24,\"axes.labelsize\":24})   \n",
    "\n",
    "import matplotlib.pyplot as plt\n",
    "%matplotlib inline\n",
    "\n",
    "import warnings \n",
    "warnings.filterwarnings(\"ignore\")\n",
    "\n",
    "import sklearn\n",
    "from sklearn import linear_model\n",
    "from sklearn.feature_selection import SelectKBest\n",
    "from sklearn.feature_selection import chi2, f_regression\n",
    "from sklearn.model_selection import cross_val_score\n",
    "from sklearn.model_selection import train_test_split\n",
    "from sklearn.feature_selection import RFE\n",
    "from sklearn.metrics import mean_squared_error, r2_score\n",
    "\n",
    "from aux_fun import evaluate\n",
    "\n",
    "import csv"
   ]
  },
  {
   "cell_type": "code",
   "execution_count": 58,
   "metadata": {
    "collapsed": true
   },
   "outputs": [],
   "source": [
    "df = pd.read_csv('./data/train_imputed.csv')"
   ]
  },
  {
   "cell_type": "code",
   "execution_count": 59,
   "metadata": {
    "collapsed": false
   },
   "outputs": [
    {
     "data": {
      "text/plain": [
       "(523021, 45)"
      ]
     },
     "execution_count": 59,
     "metadata": {},
     "output_type": "execute_result"
    }
   ],
   "source": [
    "df.shape"
   ]
  },
  {
   "cell_type": "code",
   "execution_count": 60,
   "metadata": {
    "collapsed": false
   },
   "outputs": [
    {
     "data": {
      "text/html": [
       "<div>\n",
       "<table border=\"1\" class=\"dataframe\">\n",
       "  <thead>\n",
       "    <tr style=\"text-align: right;\">\n",
       "      <th></th>\n",
       "      <th>StoreID</th>\n",
       "      <th>Date</th>\n",
       "      <th>IsHoliday</th>\n",
       "      <th>IsOpen</th>\n",
       "      <th>HasPromotions</th>\n",
       "      <th>NearestCompetitor</th>\n",
       "      <th>Region</th>\n",
       "      <th>NumberOfCustomers</th>\n",
       "      <th>NumberOfSales</th>\n",
       "      <th>Region_AreaKM2</th>\n",
       "      <th>...</th>\n",
       "      <th>Max_VisibilityKm</th>\n",
       "      <th>Min_VisibilitykM</th>\n",
       "      <th>Mean_VisibilityKm</th>\n",
       "      <th>Hyper_Market</th>\n",
       "      <th>Shopping_Center</th>\n",
       "      <th>Standard_Market</th>\n",
       "      <th>Super_Market</th>\n",
       "      <th>General</th>\n",
       "      <th>With_Fish_Department</th>\n",
       "      <th>With_Non-Food_Department</th>\n",
       "    </tr>\n",
       "  </thead>\n",
       "  <tbody>\n",
       "    <tr>\n",
       "      <th>0</th>\n",
       "      <td>1000</td>\n",
       "      <td>2016-01-03</td>\n",
       "      <td>0</td>\n",
       "      <td>1</td>\n",
       "      <td>0</td>\n",
       "      <td>326</td>\n",
       "      <td>7</td>\n",
       "      <td>495</td>\n",
       "      <td>5676</td>\n",
       "      <td>9643</td>\n",
       "      <td>...</td>\n",
       "      <td>19.0</td>\n",
       "      <td>6.0</td>\n",
       "      <td>11.0</td>\n",
       "      <td>1</td>\n",
       "      <td>0</td>\n",
       "      <td>0</td>\n",
       "      <td>0</td>\n",
       "      <td>1</td>\n",
       "      <td>0</td>\n",
       "      <td>0</td>\n",
       "    </tr>\n",
       "    <tr>\n",
       "      <th>1</th>\n",
       "      <td>1000</td>\n",
       "      <td>2016-02-03</td>\n",
       "      <td>0</td>\n",
       "      <td>1</td>\n",
       "      <td>0</td>\n",
       "      <td>326</td>\n",
       "      <td>7</td>\n",
       "      <td>608</td>\n",
       "      <td>8111</td>\n",
       "      <td>9643</td>\n",
       "      <td>...</td>\n",
       "      <td>23.0</td>\n",
       "      <td>10.0</td>\n",
       "      <td>13.0</td>\n",
       "      <td>1</td>\n",
       "      <td>0</td>\n",
       "      <td>0</td>\n",
       "      <td>0</td>\n",
       "      <td>1</td>\n",
       "      <td>0</td>\n",
       "      <td>0</td>\n",
       "    </tr>\n",
       "    <tr>\n",
       "      <th>2</th>\n",
       "      <td>1000</td>\n",
       "      <td>2016-04-03</td>\n",
       "      <td>0</td>\n",
       "      <td>1</td>\n",
       "      <td>0</td>\n",
       "      <td>326</td>\n",
       "      <td>7</td>\n",
       "      <td>665</td>\n",
       "      <td>8300</td>\n",
       "      <td>9643</td>\n",
       "      <td>...</td>\n",
       "      <td>31.0</td>\n",
       "      <td>8.0</td>\n",
       "      <td>11.0</td>\n",
       "      <td>1</td>\n",
       "      <td>0</td>\n",
       "      <td>0</td>\n",
       "      <td>0</td>\n",
       "      <td>1</td>\n",
       "      <td>0</td>\n",
       "      <td>0</td>\n",
       "    </tr>\n",
       "    <tr>\n",
       "      <th>3</th>\n",
       "      <td>1000</td>\n",
       "      <td>2016-05-03</td>\n",
       "      <td>0</td>\n",
       "      <td>1</td>\n",
       "      <td>0</td>\n",
       "      <td>326</td>\n",
       "      <td>7</td>\n",
       "      <td>630</td>\n",
       "      <td>7154</td>\n",
       "      <td>9643</td>\n",
       "      <td>...</td>\n",
       "      <td>31.0</td>\n",
       "      <td>10.0</td>\n",
       "      <td>15.0</td>\n",
       "      <td>1</td>\n",
       "      <td>0</td>\n",
       "      <td>0</td>\n",
       "      <td>0</td>\n",
       "      <td>1</td>\n",
       "      <td>0</td>\n",
       "      <td>0</td>\n",
       "    </tr>\n",
       "    <tr>\n",
       "      <th>4</th>\n",
       "      <td>1000</td>\n",
       "      <td>2016-06-03</td>\n",
       "      <td>0</td>\n",
       "      <td>0</td>\n",
       "      <td>0</td>\n",
       "      <td>326</td>\n",
       "      <td>7</td>\n",
       "      <td>0</td>\n",
       "      <td>0</td>\n",
       "      <td>9643</td>\n",
       "      <td>...</td>\n",
       "      <td>31.0</td>\n",
       "      <td>5.0</td>\n",
       "      <td>12.0</td>\n",
       "      <td>1</td>\n",
       "      <td>0</td>\n",
       "      <td>0</td>\n",
       "      <td>0</td>\n",
       "      <td>1</td>\n",
       "      <td>0</td>\n",
       "      <td>0</td>\n",
       "    </tr>\n",
       "  </tbody>\n",
       "</table>\n",
       "<p>5 rows × 45 columns</p>\n",
       "</div>"
      ],
      "text/plain": [
       "   StoreID        Date  IsHoliday  IsOpen  HasPromotions  NearestCompetitor  \\\n",
       "0     1000  2016-01-03          0       1              0                326   \n",
       "1     1000  2016-02-03          0       1              0                326   \n",
       "2     1000  2016-04-03          0       1              0                326   \n",
       "3     1000  2016-05-03          0       1              0                326   \n",
       "4     1000  2016-06-03          0       0              0                326   \n",
       "\n",
       "   Region  NumberOfCustomers  NumberOfSales  Region_AreaKM2  \\\n",
       "0       7                495           5676            9643   \n",
       "1       7                608           8111            9643   \n",
       "2       7                665           8300            9643   \n",
       "3       7                630           7154            9643   \n",
       "4       7                  0              0            9643   \n",
       "\n",
       "             ...             Max_VisibilityKm  Min_VisibilitykM  \\\n",
       "0            ...                         19.0               6.0   \n",
       "1            ...                         23.0              10.0   \n",
       "2            ...                         31.0               8.0   \n",
       "3            ...                         31.0              10.0   \n",
       "4            ...                         31.0               5.0   \n",
       "\n",
       "   Mean_VisibilityKm  Hyper_Market  Shopping_Center  Standard_Market  \\\n",
       "0               11.0             1                0                0   \n",
       "1               13.0             1                0                0   \n",
       "2               11.0             1                0                0   \n",
       "3               15.0             1                0                0   \n",
       "4               12.0             1                0                0   \n",
       "\n",
       "   Super_Market  General  With_Fish_Department  With_Non-Food_Department  \n",
       "0             0        1                     0                         0  \n",
       "1             0        1                     0                         0  \n",
       "2             0        1                     0                         0  \n",
       "3             0        1                     0                         0  \n",
       "4             0        1                     0                         0  \n",
       "\n",
       "[5 rows x 45 columns]"
      ]
     },
     "execution_count": 60,
     "metadata": {},
     "output_type": "execute_result"
    }
   ],
   "source": [
    "df.head()"
   ]
  },
  {
   "cell_type": "code",
   "execution_count": 61,
   "metadata": {
    "collapsed": false
   },
   "outputs": [
    {
     "data": {
      "text/plain": [
       "Index(['StoreID', 'Date', 'IsHoliday', 'IsOpen', 'HasPromotions',\n",
       "       'NearestCompetitor', 'Region', 'NumberOfCustomers', 'NumberOfSales',\n",
       "       'Region_AreaKM2', 'Region_GDP', 'Region_PopulationK', 'Max_Dew_PointC',\n",
       "       'Max_Gust_SpeedKm_h', 'Max_Humidity', 'Max_Sea_Level_PressurehPa',\n",
       "       'Max_TemperatureC', 'Max_Wind_SpeedKm_h', 'Mean_Dew_PointC',\n",
       "       'Mean_Humidity', 'Mean_Sea_Level_PressurehPa', 'Mean_TemperatureC',\n",
       "       'Mean_Wind_SpeedKm_h', 'Min_Dew_PointC', 'Min_Humidity',\n",
       "       'Min_Sea_Level_PressurehPa', 'Min_TemperatureC', 'Precipitationmm',\n",
       "       'WindDirDegrees', 'CloudCover', 'Fog', 'Hail', 'Rain', 'Snow',\n",
       "       'Thunderstorm', 'Max_VisibilityKm', 'Min_VisibilitykM',\n",
       "       'Mean_VisibilityKm', 'Hyper_Market', 'Shopping_Center',\n",
       "       'Standard_Market', 'Super_Market', 'General', 'With_Fish_Department',\n",
       "       'With_Non-Food_Department'],\n",
       "      dtype='object')"
      ]
     },
     "execution_count": 61,
     "metadata": {},
     "output_type": "execute_result"
    }
   ],
   "source": [
    "df.columns"
   ]
  },
  {
   "cell_type": "code",
   "execution_count": 62,
   "metadata": {
    "collapsed": false
   },
   "outputs": [],
   "source": [
    "y = df['NumberOfSales']"
   ]
  },
  {
   "cell_type": "code",
   "execution_count": 63,
   "metadata": {
    "collapsed": false
   },
   "outputs": [],
   "source": [
    "X = df.drop(df[['NumberOfSales', 'WindDirDegrees']], axis=1)"
   ]
  },
  {
   "cell_type": "markdown",
   "metadata": {},
   "source": [
    "# Train-Test Split"
   ]
  },
  {
   "cell_type": "code",
   "execution_count": 64,
   "metadata": {
    "collapsed": false
   },
   "outputs": [],
   "source": [
    "X_train, X_test, y_train, y_test = train_test_split(X, y, test_size=0.2, random_state=42)"
   ]
  },
  {
   "cell_type": "code",
   "execution_count": 65,
   "metadata": {
    "collapsed": true
   },
   "outputs": [],
   "source": [
    "dates_test = X_test['Date']"
   ]
  },
  {
   "cell_type": "code",
   "execution_count": 66,
   "metadata": {
    "collapsed": false
   },
   "outputs": [],
   "source": [
    "X_train = X_train.drop(['Date'], axis=1)\n",
    "X_test = X_test.drop(['Date'], axis=1)"
   ]
  },
  {
   "cell_type": "markdown",
   "metadata": {},
   "source": [
    "# Feature Selection"
   ]
  },
  {
   "cell_type": "code",
   "execution_count": 14,
   "metadata": {
    "collapsed": false
   },
   "outputs": [],
   "source": [
    "rfe = RFE(linear_model.LinearRegression(), 3) #10 is the number of features to consider\n",
    "fit = rfe.fit(X_train, y_train)"
   ]
  },
  {
   "cell_type": "code",
   "execution_count": 60,
   "metadata": {
    "collapsed": false
   },
   "outputs": [
    {
     "data": {
      "text/plain": [
       "array([False, False, False, False, False, False, False, False, False,\n",
       "       False, False, False, False, False, False, False, False, False,\n",
       "       False, False, False, False, False, False, False, False, False,\n",
       "       False, False, False, False, False, False, False, False,  True,\n",
       "        True,  True,  True,  True,  True, False], dtype=bool)"
      ]
     },
     "execution_count": 60,
     "metadata": {},
     "output_type": "execute_result"
    }
   ],
   "source": [
    "feature_mask = fit.get_support() #mask of the chosen features\n",
    "feature_mask"
   ]
  },
  {
   "cell_type": "code",
   "execution_count": 61,
   "metadata": {
    "collapsed": false,
    "scrolled": true
   },
   "outputs": [
    {
     "data": {
      "text/plain": [
       "Index(['Hyper_Market', 'Shopping_Center', 'Standard_Market', 'Super_Market',\n",
       "       'General', 'With_Fish_Department'],\n",
       "      dtype='object')"
      ]
     },
     "execution_count": 61,
     "metadata": {},
     "output_type": "execute_result"
    }
   ],
   "source": [
    "feature_selected =X_train.columns[feature_mask]\n",
    "feature_selected"
   ]
  },
  {
   "cell_type": "markdown",
   "metadata": {
    "collapsed": true
   },
   "source": [
    "# Model Creation"
   ]
  },
  {
   "cell_type": "markdown",
   "metadata": {},
   "source": [
    "## OLS"
   ]
  },
  {
   "cell_type": "code",
   "execution_count": 38,
   "metadata": {
    "collapsed": false
   },
   "outputs": [
    {
     "data": {
      "text/plain": [
       "Index(['StoreID', 'IsHoliday', 'IsOpen', 'HasPromotions', 'NearestCompetitor',\n",
       "       'Region', 'NumberOfCustomers', 'Region_AreaKM2', 'Region_GDP',\n",
       "       'Region_PopulationK', 'Max_Dew_PointC', 'Max_Gust_SpeedKm_h',\n",
       "       'Max_Humidity', 'Max_Sea_Level_PressurehPa', 'Max_TemperatureC',\n",
       "       'Max_Wind_SpeedKm_h', 'Mean_Dew_PointC', 'Mean_Humidity',\n",
       "       'Mean_Sea_Level_PressurehPa', 'Mean_TemperatureC',\n",
       "       'Mean_Wind_SpeedKm_h', 'Min_Dew_PointC', 'Min_Humidity',\n",
       "       'Min_Sea_Level_PressurehPa', 'Min_TemperatureC', 'Precipitationmm',\n",
       "       'CloudCover', 'Fog', 'Hail', 'Rain', 'Snow', 'Thunderstorm',\n",
       "       'Max_VisibilityKm', 'Min_VisibilitykM', 'Mean_VisibilityKm',\n",
       "       'Hyper_Market', 'Shopping_Center', 'Standard_Market', 'Super_Market',\n",
       "       'General', 'With_Fish_Department', 'With_Non-Food_Department'],\n",
       "      dtype='object')"
      ]
     },
     "execution_count": 38,
     "metadata": {},
     "output_type": "execute_result"
    }
   ],
   "source": [
    "X_train.columns"
   ]
  },
  {
   "cell_type": "code",
   "execution_count": 39,
   "metadata": {
    "collapsed": false
   },
   "outputs": [],
   "source": [
    "regr = linear_model.LinearRegression()"
   ]
  },
  {
   "cell_type": "code",
   "execution_count": 41,
   "metadata": {
    "collapsed": false
   },
   "outputs": [
    {
     "data": {
      "text/plain": [
       "LinearRegression(copy_X=True, fit_intercept=True, n_jobs=1, normalize=False)"
      ]
     },
     "execution_count": 41,
     "metadata": {},
     "output_type": "execute_result"
    }
   ],
   "source": [
    "regr.fit(X_train['NumberOfCustomers'].reshape(-1, 1), y_train)"
   ]
  },
  {
   "cell_type": "code",
   "execution_count": 43,
   "metadata": {
    "collapsed": false
   },
   "outputs": [],
   "source": [
    "y_pred = regr.predict(X_test['NumberOfCustomers'].reshape(-1, 1))"
   ]
  },
  {
   "cell_type": "code",
   "execution_count": 44,
   "metadata": {
    "collapsed": false
   },
   "outputs": [
    {
     "name": "stdout",
     "output_type": "stream",
     "text": [
      "Coefficients: \n",
      " [ 13.3448609]\n"
     ]
    }
   ],
   "source": [
    "print('Coefficients: \\n', regr.coef_)\n",
    "#The mean squared error"
   ]
  },
  {
   "cell_type": "markdown",
   "metadata": {},
   "source": [
    "## Lasso"
   ]
  },
  {
   "cell_type": "code",
   "execution_count": 67,
   "metadata": {
    "collapsed": false
   },
   "outputs": [],
   "source": [
    "lasso = linear_model.Lasso(0.01, normalize=True)"
   ]
  },
  {
   "cell_type": "code",
   "execution_count": 68,
   "metadata": {
    "collapsed": false
   },
   "outputs": [
    {
     "data": {
      "text/plain": [
       "Lasso(alpha=0.01, copy_X=True, fit_intercept=True, max_iter=1000,\n",
       "   normalize=True, positive=False, precompute=False, random_state=None,\n",
       "   selection='cyclic', tol=0.0001, warm_start=False)"
      ]
     },
     "execution_count": 68,
     "metadata": {},
     "output_type": "execute_result"
    }
   ],
   "source": [
    "lasso.fit(X_train, y_train)"
   ]
  },
  {
   "cell_type": "code",
   "execution_count": 69,
   "metadata": {
    "collapsed": false
   },
   "outputs": [],
   "source": [
    "y_pred = lasso.predict(X_test)"
   ]
  },
  {
   "cell_type": "code",
   "execution_count": 70,
   "metadata": {
    "collapsed": false
   },
   "outputs": [
    {
     "data": {
      "text/plain": [
       "array([ 4188.84530665,   -66.9666144 ,  4806.47294474, ...,  6102.82701915,\n",
       "        6395.80065768,  -409.50500737])"
      ]
     },
     "execution_count": 70,
     "metadata": {},
     "output_type": "execute_result"
    }
   ],
   "source": [
    "y_pred"
   ]
  },
  {
   "cell_type": "markdown",
   "metadata": {},
   "source": [
    "## Lasso CV"
   ]
  },
  {
   "cell_type": "code",
   "execution_count": 11,
   "metadata": {
    "collapsed": true
   },
   "outputs": [],
   "source": [
    "alphas = [0.00001, 0.0001, 0.001, 0.01, 0.1]"
   ]
  },
  {
   "cell_type": "code",
   "execution_count": 12,
   "metadata": {
    "collapsed": true
   },
   "outputs": [],
   "source": [
    "lassocv = linear_model.LassoCV(eps=0.001, n_alphas=100, alphas=alphas, fit_intercept=True, normalize=False, max_iter=10000,  cv=10)"
   ]
  },
  {
   "cell_type": "code",
   "execution_count": 13,
   "metadata": {
    "collapsed": false
   },
   "outputs": [
    {
     "data": {
      "text/plain": [
       "LassoCV(alphas=[1e-05, 0.0001, 0.001, 0.01, 0.1], copy_X=True, cv=10,\n",
       "    eps=0.001, fit_intercept=True, max_iter=10000, n_alphas=100, n_jobs=1,\n",
       "    normalize=False, positive=False, precompute='auto', random_state=None,\n",
       "    selection='cyclic', tol=0.0001, verbose=False)"
      ]
     },
     "execution_count": 13,
     "metadata": {},
     "output_type": "execute_result"
    }
   ],
   "source": [
    "lassocv.fit(X_train, y_train)"
   ]
  },
  {
   "cell_type": "code",
   "execution_count": 14,
   "metadata": {
    "collapsed": true
   },
   "outputs": [],
   "source": [
    "y_pred = lassocv.predict(X_test)"
   ]
  },
  {
   "cell_type": "code",
   "execution_count": 15,
   "metadata": {
    "collapsed": false
   },
   "outputs": [
    {
     "data": {
      "text/plain": [
       "0.01"
      ]
     },
     "execution_count": 15,
     "metadata": {},
     "output_type": "execute_result"
    }
   ],
   "source": [
    "lassocv.alpha_"
   ]
  },
  {
   "cell_type": "markdown",
   "metadata": {},
   "source": [
    "# Creation of the submission "
   ]
  },
  {
   "cell_type": "code",
   "execution_count": 71,
   "metadata": {
    "collapsed": false
   },
   "outputs": [],
   "source": [
    "result = X_test.copy()"
   ]
  },
  {
   "cell_type": "code",
   "execution_count": 72,
   "metadata": {
    "collapsed": false
   },
   "outputs": [],
   "source": [
    "result = result.drop(result[['IsHoliday', 'IsOpen', 'HasPromotions', 'NearestCompetitor',\\\n",
    "       'Region', 'NumberOfCustomers', 'Region_AreaKM2', 'Region_GDP',\\\n",
    "       'Region_PopulationK', 'Max_Dew_PointC', 'Max_Gust_SpeedKm_h',\\\n",
    "       'Max_Humidity', 'Max_Sea_Level_PressurehPa', 'Max_TemperatureC',\\\n",
    "       'Max_Wind_SpeedKm_h', 'Mean_Dew_PointC', 'Mean_Humidity',\\\n",
    "       'Mean_Sea_Level_PressurehPa', 'Mean_TemperatureC',\\\n",
    "       'Mean_Wind_SpeedKm_h', 'Min_Dew_PointC', 'Min_Humidity',\\\n",
    "       'Min_Sea_Level_PressurehPa', 'Min_TemperatureC', 'Precipitationmm',\\\n",
    "       'CloudCover', 'Fog', 'Hail', 'Rain', 'Snow', 'Thunderstorm',\\\n",
    "       'Max_VisibilityKm', 'Min_VisibilitykM', 'Mean_VisibilityKm',\\\n",
    "       'Hyper_Market', 'Shopping_Center', 'Standard_Market', 'Super_Market',\\\n",
    "       'General', 'With_Fish_Department', 'With_Non-Food_Department']], axis=1)"
   ]
  },
  {
   "cell_type": "code",
   "execution_count": 73,
   "metadata": {
    "collapsed": false
   },
   "outputs": [],
   "source": [
    "result['Month'] = pd.DatetimeIndex(dates_test).month"
   ]
  },
  {
   "cell_type": "code",
   "execution_count": 74,
   "metadata": {
    "collapsed": false
   },
   "outputs": [],
   "source": [
    "result['NumberOfSales'] = y_pred"
   ]
  },
  {
   "cell_type": "code",
   "execution_count": 75,
   "metadata": {
    "collapsed": false
   },
   "outputs": [
    {
     "data": {
      "text/html": [
       "<div>\n",
       "<table border=\"1\" class=\"dataframe\">\n",
       "  <thead>\n",
       "    <tr style=\"text-align: right;\">\n",
       "      <th></th>\n",
       "      <th>StoreID</th>\n",
       "      <th>Month</th>\n",
       "      <th>NumberOfSales</th>\n",
       "    </tr>\n",
       "  </thead>\n",
       "  <tbody>\n",
       "    <tr>\n",
       "      <th>199480</th>\n",
       "      <td>1284</td>\n",
       "      <td>2</td>\n",
       "      <td>4188.845307</td>\n",
       "    </tr>\n",
       "    <tr>\n",
       "      <th>492279</th>\n",
       "      <td>1705</td>\n",
       "      <td>4</td>\n",
       "      <td>-66.966614</td>\n",
       "    </tr>\n",
       "    <tr>\n",
       "      <th>500907</th>\n",
       "      <td>1717</td>\n",
       "      <td>6</td>\n",
       "      <td>4806.472945</td>\n",
       "    </tr>\n",
       "    <tr>\n",
       "      <th>63763</th>\n",
       "      <td>1091</td>\n",
       "      <td>1</td>\n",
       "      <td>5415.749179</td>\n",
       "    </tr>\n",
       "    <tr>\n",
       "      <th>74453</th>\n",
       "      <td>1107</td>\n",
       "      <td>10</td>\n",
       "      <td>727.217203</td>\n",
       "    </tr>\n",
       "  </tbody>\n",
       "</table>\n",
       "</div>"
      ],
      "text/plain": [
       "        StoreID  Month  NumberOfSales\n",
       "199480     1284      2    4188.845307\n",
       "492279     1705      4     -66.966614\n",
       "500907     1717      6    4806.472945\n",
       "63763      1091      1    5415.749179\n",
       "74453      1107     10     727.217203"
      ]
     },
     "execution_count": 75,
     "metadata": {},
     "output_type": "execute_result"
    }
   ],
   "source": [
    "result.head()"
   ]
  },
  {
   "cell_type": "code",
   "execution_count": 76,
   "metadata": {
    "collapsed": false
   },
   "outputs": [
    {
     "data": {
      "text/plain": [
       "(104605, 3)"
      ]
     },
     "execution_count": 76,
     "metadata": {},
     "output_type": "execute_result"
    }
   ],
   "source": [
    "result.shape"
   ]
  },
  {
   "cell_type": "code",
   "execution_count": 77,
   "metadata": {
    "collapsed": false
   },
   "outputs": [],
   "source": [
    "#Group by Month\n",
    "target =result.groupby(['StoreID','Month'], as_index=False)['NumberOfSales'].sum()"
   ]
  },
  {
   "cell_type": "code",
   "execution_count": 78,
   "metadata": {
    "collapsed": false
   },
   "outputs": [],
   "source": [
    "#set to 0 the prediction for days in which the shop is closed\n",
    "#result['pred'][result['IsOpen']==0]=0 "
   ]
  },
  {
   "cell_type": "code",
   "execution_count": 79,
   "metadata": {
    "collapsed": false
   },
   "outputs": [],
   "source": [
    "X_test['NumberOfSales']= y_test\n",
    "X_test['Date'] = dates_test"
   ]
  },
  {
   "cell_type": "code",
   "execution_count": 80,
   "metadata": {
    "collapsed": false
   },
   "outputs": [
    {
     "data": {
      "text/html": [
       "<div>\n",
       "<table border=\"1\" class=\"dataframe\">\n",
       "  <thead>\n",
       "    <tr style=\"text-align: right;\">\n",
       "      <th></th>\n",
       "      <th>StoreID</th>\n",
       "      <th>IsHoliday</th>\n",
       "      <th>IsOpen</th>\n",
       "      <th>HasPromotions</th>\n",
       "      <th>NearestCompetitor</th>\n",
       "      <th>Region</th>\n",
       "      <th>NumberOfCustomers</th>\n",
       "      <th>Region_AreaKM2</th>\n",
       "      <th>Region_GDP</th>\n",
       "      <th>Region_PopulationK</th>\n",
       "      <th>...</th>\n",
       "      <th>Mean_VisibilityKm</th>\n",
       "      <th>Hyper_Market</th>\n",
       "      <th>Shopping_Center</th>\n",
       "      <th>Standard_Market</th>\n",
       "      <th>Super_Market</th>\n",
       "      <th>General</th>\n",
       "      <th>With_Fish_Department</th>\n",
       "      <th>With_Non-Food_Department</th>\n",
       "      <th>NumberOfSales</th>\n",
       "      <th>Date</th>\n",
       "    </tr>\n",
       "  </thead>\n",
       "  <tbody>\n",
       "    <tr>\n",
       "      <th>199480</th>\n",
       "      <td>1284</td>\n",
       "      <td>0</td>\n",
       "      <td>1</td>\n",
       "      <td>1</td>\n",
       "      <td>1145</td>\n",
       "      <td>6</td>\n",
       "      <td>245</td>\n",
       "      <td>16327</td>\n",
       "      <td>15931</td>\n",
       "      <td>4911</td>\n",
       "      <td>...</td>\n",
       "      <td>26.0</td>\n",
       "      <td>1</td>\n",
       "      <td>0</td>\n",
       "      <td>0</td>\n",
       "      <td>0</td>\n",
       "      <td>1</td>\n",
       "      <td>0</td>\n",
       "      <td>0</td>\n",
       "      <td>3452</td>\n",
       "      <td>2017-02-21</td>\n",
       "    </tr>\n",
       "    <tr>\n",
       "      <th>492279</th>\n",
       "      <td>1705</td>\n",
       "      <td>0</td>\n",
       "      <td>0</td>\n",
       "      <td>0</td>\n",
       "      <td>3482</td>\n",
       "      <td>2</td>\n",
       "      <td>0</td>\n",
       "      <td>32221</td>\n",
       "      <td>16186</td>\n",
       "      <td>5727</td>\n",
       "      <td>...</td>\n",
       "      <td>10.0</td>\n",
       "      <td>1</td>\n",
       "      <td>0</td>\n",
       "      <td>0</td>\n",
       "      <td>0</td>\n",
       "      <td>1</td>\n",
       "      <td>0</td>\n",
       "      <td>0</td>\n",
       "      <td>0</td>\n",
       "      <td>2016-04-17</td>\n",
       "    </tr>\n",
       "    <tr>\n",
       "      <th>500907</th>\n",
       "      <td>1717</td>\n",
       "      <td>0</td>\n",
       "      <td>1</td>\n",
       "      <td>1</td>\n",
       "      <td>3029</td>\n",
       "      <td>2</td>\n",
       "      <td>252</td>\n",
       "      <td>32221</td>\n",
       "      <td>16186</td>\n",
       "      <td>5727</td>\n",
       "      <td>...</td>\n",
       "      <td>9.0</td>\n",
       "      <td>1</td>\n",
       "      <td>0</td>\n",
       "      <td>0</td>\n",
       "      <td>0</td>\n",
       "      <td>0</td>\n",
       "      <td>0</td>\n",
       "      <td>1</td>\n",
       "      <td>4679</td>\n",
       "      <td>2017-06-23</td>\n",
       "    </tr>\n",
       "    <tr>\n",
       "      <th>63763</th>\n",
       "      <td>1091</td>\n",
       "      <td>0</td>\n",
       "      <td>1</td>\n",
       "      <td>0</td>\n",
       "      <td>7337</td>\n",
       "      <td>9</td>\n",
       "      <td>351</td>\n",
       "      <td>15566</td>\n",
       "      <td>15017</td>\n",
       "      <td>8146</td>\n",
       "      <td>...</td>\n",
       "      <td>8.0</td>\n",
       "      <td>1</td>\n",
       "      <td>0</td>\n",
       "      <td>0</td>\n",
       "      <td>0</td>\n",
       "      <td>0</td>\n",
       "      <td>0</td>\n",
       "      <td>1</td>\n",
       "      <td>5232</td>\n",
       "      <td>2016-01-03</td>\n",
       "    </tr>\n",
       "    <tr>\n",
       "      <th>74453</th>\n",
       "      <td>1107</td>\n",
       "      <td>0</td>\n",
       "      <td>0</td>\n",
       "      <td>0</td>\n",
       "      <td>22406</td>\n",
       "      <td>1</td>\n",
       "      <td>0</td>\n",
       "      <td>7385</td>\n",
       "      <td>9893</td>\n",
       "      <td>1018</td>\n",
       "      <td>...</td>\n",
       "      <td>10.0</td>\n",
       "      <td>0</td>\n",
       "      <td>0</td>\n",
       "      <td>1</td>\n",
       "      <td>0</td>\n",
       "      <td>0</td>\n",
       "      <td>0</td>\n",
       "      <td>1</td>\n",
       "      <td>0</td>\n",
       "      <td>2016-10-07</td>\n",
       "    </tr>\n",
       "  </tbody>\n",
       "</table>\n",
       "<p>5 rows × 44 columns</p>\n",
       "</div>"
      ],
      "text/plain": [
       "        StoreID  IsHoliday  IsOpen  HasPromotions  NearestCompetitor  Region  \\\n",
       "199480     1284          0       1              1               1145       6   \n",
       "492279     1705          0       0              0               3482       2   \n",
       "500907     1717          0       1              1               3029       2   \n",
       "63763      1091          0       1              0               7337       9   \n",
       "74453      1107          0       0              0              22406       1   \n",
       "\n",
       "        NumberOfCustomers  Region_AreaKM2  Region_GDP  Region_PopulationK  \\\n",
       "199480                245           16327       15931                4911   \n",
       "492279                  0           32221       16186                5727   \n",
       "500907                252           32221       16186                5727   \n",
       "63763                 351           15566       15017                8146   \n",
       "74453                   0            7385        9893                1018   \n",
       "\n",
       "           ...      Mean_VisibilityKm  Hyper_Market  Shopping_Center  \\\n",
       "199480     ...                   26.0             1                0   \n",
       "492279     ...                   10.0             1                0   \n",
       "500907     ...                    9.0             1                0   \n",
       "63763      ...                    8.0             1                0   \n",
       "74453      ...                   10.0             0                0   \n",
       "\n",
       "        Standard_Market  Super_Market  General  With_Fish_Department  \\\n",
       "199480                0             0        1                     0   \n",
       "492279                0             0        1                     0   \n",
       "500907                0             0        0                     0   \n",
       "63763                 0             0        0                     0   \n",
       "74453                 1             0        0                     0   \n",
       "\n",
       "        With_Non-Food_Department  NumberOfSales        Date  \n",
       "199480                         0           3452  2017-02-21  \n",
       "492279                         0              0  2016-04-17  \n",
       "500907                         1           4679  2017-06-23  \n",
       "63763                          1           5232  2016-01-03  \n",
       "74453                          1              0  2016-10-07  \n",
       "\n",
       "[5 rows x 44 columns]"
      ]
     },
     "execution_count": 80,
     "metadata": {},
     "output_type": "execute_result"
    }
   ],
   "source": [
    "X_test.head()"
   ]
  },
  {
   "cell_type": "code",
   "execution_count": 81,
   "metadata": {
    "collapsed": false
   },
   "outputs": [
    {
     "data": {
      "text/plain": [
       "0.92128141678975584"
      ]
     },
     "execution_count": 81,
     "metadata": {},
     "output_type": "execute_result"
    }
   ],
   "source": [
    "eval =evaluate(X_test,result)\n",
    "eval"
   ]
  },
  {
   "cell_type": "code",
   "execution_count": 82,
   "metadata": {
    "collapsed": false
   },
   "outputs": [
    {
     "name": "stdout",
     "output_type": "stream",
     "text": [
      "Mean squared error: 669964.41\n",
      "R2 score: 0.91\n"
     ]
    }
   ],
   "source": [
    "print(\"Mean squared error: %.2f\"\n",
    "      % mean_squared_error(y_test,y_pred))\n",
    "# Explained variance score: 1 is perfect prediction\n",
    "print('R2 score: %.2f' % r2_score(y_test, y_pred))"
   ]
  },
  {
   "cell_type": "code",
   "execution_count": 83,
   "metadata": {
    "collapsed": false
   },
   "outputs": [
    {
     "ename": "TypeError",
     "evalue": "Can't convert 'float' object to str implicitly",
     "output_type": "error",
     "traceback": [
      "\u001b[0;31m---------------------------------------------------------------------------\u001b[0m",
      "\u001b[0;31mTypeError\u001b[0m                                 Traceback (most recent call last)",
      "\u001b[0;32m<ipython-input-83-2629bc2714aa>\u001b[0m in \u001b[0;36m<module>\u001b[0;34m()\u001b[0m\n\u001b[1;32m      2\u001b[0m     writer = csv.writer(csvfile, delimiter=',',\n\u001b[1;32m      3\u001b[0m                             quotechar='|', quoting=csv.QUOTE_MINIMAL)\n\u001b[0;32m----> 4\u001b[0;31m     \u001b[0mwriter\u001b[0m\u001b[0;34m.\u001b[0m\u001b[0mwriterow\u001b[0m\u001b[0;34m(\u001b[0m\u001b[0;34m'linear_regression,'\u001b[0m\u001b[0;34m+\u001b[0m\u001b[0mX_train\u001b[0m\u001b[0;34m.\u001b[0m\u001b[0mcolumns\u001b[0m\u001b[0;34m+\u001b[0m\u001b[0;34m','\u001b[0m\u001b[0;34m+\u001b[0m\u001b[0meval\u001b[0m\u001b[0;34m)\u001b[0m\u001b[0;34m\u001b[0m\u001b[0m\n\u001b[0m",
      "\u001b[0;32m/home/giada/anaconda3/lib/python3.5/site-packages/pandas/indexes/base.py\u001b[0m in \u001b[0;36m__add__\u001b[0;34m(self, other)\u001b[0m\n\u001b[1;32m   1648\u001b[0m         \u001b[0;32mif\u001b[0m \u001b[0misinstance\u001b[0m\u001b[0;34m(\u001b[0m\u001b[0mother\u001b[0m\u001b[0;34m,\u001b[0m \u001b[0mIndex\u001b[0m\u001b[0;34m)\u001b[0m\u001b[0;34m:\u001b[0m\u001b[0;34m\u001b[0m\u001b[0m\n\u001b[1;32m   1649\u001b[0m             \u001b[0;32mreturn\u001b[0m \u001b[0mself\u001b[0m\u001b[0;34m.\u001b[0m\u001b[0munion\u001b[0m\u001b[0;34m(\u001b[0m\u001b[0mother\u001b[0m\u001b[0;34m)\u001b[0m\u001b[0;34m\u001b[0m\u001b[0m\n\u001b[0;32m-> 1650\u001b[0;31m         \u001b[0;32mreturn\u001b[0m \u001b[0mIndex\u001b[0m\u001b[0;34m(\u001b[0m\u001b[0mnp\u001b[0m\u001b[0;34m.\u001b[0m\u001b[0marray\u001b[0m\u001b[0;34m(\u001b[0m\u001b[0mself\u001b[0m\u001b[0;34m)\u001b[0m \u001b[0;34m+\u001b[0m \u001b[0mother\u001b[0m\u001b[0;34m)\u001b[0m\u001b[0;34m\u001b[0m\u001b[0m\n\u001b[0m\u001b[1;32m   1651\u001b[0m \u001b[0;34m\u001b[0m\u001b[0m\n\u001b[1;32m   1652\u001b[0m     \u001b[0;32mdef\u001b[0m \u001b[0m__radd__\u001b[0m\u001b[0;34m(\u001b[0m\u001b[0mself\u001b[0m\u001b[0;34m,\u001b[0m \u001b[0mother\u001b[0m\u001b[0;34m)\u001b[0m\u001b[0;34m:\u001b[0m\u001b[0;34m\u001b[0m\u001b[0m\n",
      "\u001b[0;31mTypeError\u001b[0m: Can't convert 'float' object to str implicitly"
     ]
    }
   ],
   "source": [
    "with open('evaluation.csv', 'wb') as csvfile:\n",
    "    writer = csv.writer(csvfile, delimiter=',',\n",
    "                            quotechar='|', quoting=csv.QUOTE_MINIMAL)\n",
    "    writer.writerow('linear_regression,'+X_train.columns+','+eval)"
   ]
  },
  {
   "cell_type": "code",
   "execution_count": null,
   "metadata": {
    "collapsed": true
   },
   "outputs": [],
   "source": [
    "# Regression result with all the features: 0.92127101142788959\n",
    "# Regression on Number of customers: 0.9215451778994711\n",
    "# Lasso alpha = 0.01, norm=True:   0.92128141678975584\n",
    "# Lasso alpha = 0.0001, norm=True: 0.92127100850880839\n",
    "# LassoCV(eps=0.001, n_alphas=100, alphas=alphas, \\\n",
    "    #fit_intercept=True, normalize=False, max_iter=10000,  cv=10): 0.9212710583672874"
   ]
  }
 ],
 "metadata": {
  "anaconda-cloud": {},
  "kernelspec": {
   "display_name": "Python [conda env:anaconda3]",
   "language": "python",
   "name": "conda-env-anaconda3-py"
  },
  "language_info": {
   "codemirror_mode": {
    "name": "ipython",
    "version": 3
   },
   "file_extension": ".py",
   "mimetype": "text/x-python",
   "name": "python",
   "nbconvert_exporter": "python",
   "pygments_lexer": "ipython3",
   "version": "3.5.2"
  }
 },
 "nbformat": 4,
 "nbformat_minor": 1
}
