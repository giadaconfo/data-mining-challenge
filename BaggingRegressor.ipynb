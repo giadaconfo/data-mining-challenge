{
 "cells": [
  {
   "cell_type": "code",
   "execution_count": 1,
   "metadata": {},
   "outputs": [],
   "source": [
    "import pandas as pd    \n",
    "pd.set_option('mode.chained_assignment', None)\n",
    "import numpy as np\n",
    "\n",
    "import sklearn\n",
    "from sklearn.model_selection import train_test_split\n",
    "from sklearn.metrics import mean_squared_error, r2_score\n",
    "from sklearn.ensemble import BaggingRegressor\n",
    "from sklearn.model_selection import GridSearchCV, KFold\n",
    "from sklearn.metrics import make_scorer\n",
    "\n",
    "from aux_fun import my_eval, my_grid_search_cv\n",
    "\n",
    "import json"
   ]
  },
  {
   "cell_type": "code",
   "execution_count": 2,
   "metadata": {},
   "outputs": [],
   "source": [
    "df = pd.read_csv('./data/train_imputed.csv')"
   ]
  },
  {
   "cell_type": "code",
   "execution_count": 3,
   "metadata": {},
   "outputs": [],
   "source": [
    "y = df['NumberOfSales']"
   ]
  },
  {
   "cell_type": "code",
   "execution_count": 4,
   "metadata": {},
   "outputs": [],
   "source": [
    "X = df.drop(df[['NumberOfSales','NumberOfCustomers', 'WindDirDegrees']], axis=1)"
   ]
  },
  {
   "cell_type": "markdown",
   "metadata": {},
   "source": [
    "# Train-Test Split"
   ]
  },
  {
   "cell_type": "code",
   "execution_count": 5,
   "metadata": {},
   "outputs": [],
   "source": [
    "X_train, X_test, y_train, y_test = train_test_split(X, y, test_size=0.2, random_state=42)"
   ]
  },
  {
   "cell_type": "code",
   "execution_count": 6,
   "metadata": {},
   "outputs": [],
   "source": [
    "X_train = X_train.reset_index(drop =True)\n",
    "y_train = y_train.reset_index(drop =True)"
   ]
  },
  {
   "cell_type": "markdown",
   "metadata": {},
   "source": [
    "# Find the combination with best parameters"
   ]
  },
  {
   "cell_type": "code",
   "execution_count": 7,
   "metadata": {},
   "outputs": [],
   "source": [
    "#parameters\n",
    "params_array = [\n",
    "    {'n_estimators' : 10},\n",
    "    {'oob_score' : True},\n",
    "    {'n_estimators' : 10, 'bootstrap' : True, 'bootstrap_features': True},\n",
    "    {'n_estimators' : 50},\n",
    "    {'n_estimators' : 10, 'bootstrap' : True, 'bootstrap_features': True, 'oob_score' : True},\n",
    "    {'n_estimators' : 50, 'bootstrap' : True, 'bootstrap_features': True},\n",
    "]"
   ]
  },
  {
   "cell_type": "code",
   "execution_count": null,
   "metadata": {},
   "outputs": [],
   "source": []
  },
  {
   "cell_type": "code",
   "execution_count": 8,
   "metadata": {
    "scrolled": false
   },
   "outputs": [
    {
     "name": "stderr",
     "output_type": "stream",
     "text": [
      "/Users/dbc/anaconda3/lib/python3.6/site-packages/sklearn/ensemble/bagging.py:987: UserWarning: Some inputs do not have OOB scores. This probably means too few estimators were used to compute any reliable oob estimates.\n",
      "  warn(\"Some inputs do not have OOB scores. \"\n",
      "/Users/dbc/anaconda3/lib/python3.6/site-packages/sklearn/ensemble/bagging.py:987: UserWarning: Some inputs do not have OOB scores. This probably means too few estimators were used to compute any reliable oob estimates.\n",
      "  warn(\"Some inputs do not have OOB scores. \"\n",
      "/Users/dbc/anaconda3/lib/python3.6/site-packages/sklearn/ensemble/bagging.py:987: UserWarning: Some inputs do not have OOB scores. This probably means too few estimators were used to compute any reliable oob estimates.\n",
      "  warn(\"Some inputs do not have OOB scores. \"\n",
      "/Users/dbc/anaconda3/lib/python3.6/site-packages/sklearn/ensemble/bagging.py:987: UserWarning: Some inputs do not have OOB scores. This probably means too few estimators were used to compute any reliable oob estimates.\n",
      "  warn(\"Some inputs do not have OOB scores. \"\n",
      "/Users/dbc/anaconda3/lib/python3.6/site-packages/sklearn/ensemble/bagging.py:987: UserWarning: Some inputs do not have OOB scores. This probably means too few estimators were used to compute any reliable oob estimates.\n",
      "  warn(\"Some inputs do not have OOB scores. \"\n",
      "/Users/dbc/anaconda3/lib/python3.6/site-packages/sklearn/ensemble/bagging.py:987: UserWarning: Some inputs do not have OOB scores. This probably means too few estimators were used to compute any reliable oob estimates.\n",
      "  warn(\"Some inputs do not have OOB scores. \"\n",
      "/Users/dbc/anaconda3/lib/python3.6/site-packages/sklearn/ensemble/bagging.py:987: UserWarning: Some inputs do not have OOB scores. This probably means too few estimators were used to compute any reliable oob estimates.\n",
      "  warn(\"Some inputs do not have OOB scores. \"\n",
      "/Users/dbc/anaconda3/lib/python3.6/site-packages/sklearn/ensemble/bagging.py:987: UserWarning: Some inputs do not have OOB scores. This probably means too few estimators were used to compute any reliable oob estimates.\n",
      "  warn(\"Some inputs do not have OOB scores. \"\n",
      "/Users/dbc/anaconda3/lib/python3.6/site-packages/sklearn/ensemble/bagging.py:987: UserWarning: Some inputs do not have OOB scores. This probably means too few estimators were used to compute any reliable oob estimates.\n",
      "  warn(\"Some inputs do not have OOB scores. \"\n",
      "/Users/dbc/anaconda3/lib/python3.6/site-packages/sklearn/ensemble/bagging.py:987: UserWarning: Some inputs do not have OOB scores. This probably means too few estimators were used to compute any reliable oob estimates.\n",
      "  warn(\"Some inputs do not have OOB scores. \"\n"
     ]
    }
   ],
   "source": [
    "results = my_grid_search_cv(BaggingRegressor(), params_array, X_train, y_train, n_folds=5)"
   ]
  },
  {
   "cell_type": "code",
   "execution_count": 9,
   "metadata": {},
   "outputs": [
    {
     "data": {
      "text/html": [
       "<div>\n",
       "<style>\n",
       "    .dataframe thead tr:only-child th {\n",
       "        text-align: right;\n",
       "    }\n",
       "\n",
       "    .dataframe thead th {\n",
       "        text-align: left;\n",
       "    }\n",
       "\n",
       "    .dataframe tbody tr th {\n",
       "        vertical-align: top;\n",
       "    }\n",
       "</style>\n",
       "<table border=\"1\" class=\"dataframe\">\n",
       "  <thead>\n",
       "    <tr style=\"text-align: right;\">\n",
       "      <th></th>\n",
       "      <th>Method</th>\n",
       "      <th>Folds</th>\n",
       "      <th>Parameters</th>\n",
       "      <th>Eval_test</th>\n",
       "      <th>R2</th>\n",
       "      <th>R2_month</th>\n",
       "    </tr>\n",
       "  </thead>\n",
       "  <tbody>\n",
       "    <tr>\n",
       "      <th>0</th>\n",
       "      <td>(DecisionTreeRegressor(criterion='mse', max_de...</td>\n",
       "      <td>5</td>\n",
       "      <td>{'n_estimators': 10}</td>\n",
       "      <td>0.056974</td>\n",
       "      <td>0.900761</td>\n",
       "      <td>0.975637</td>\n",
       "    </tr>\n",
       "    <tr>\n",
       "      <th>1</th>\n",
       "      <td>(DecisionTreeRegressor(criterion='mse', max_de...</td>\n",
       "      <td>5</td>\n",
       "      <td>{'oob_score': True}</td>\n",
       "      <td>0.056899</td>\n",
       "      <td>0.900892</td>\n",
       "      <td>0.976061</td>\n",
       "    </tr>\n",
       "    <tr>\n",
       "      <th>2</th>\n",
       "      <td>(DecisionTreeRegressor(criterion='mse', max_de...</td>\n",
       "      <td>5</td>\n",
       "      <td>{'n_estimators': 10, 'bootstrap': True, 'boots...</td>\n",
       "      <td>0.070243</td>\n",
       "      <td>0.872665</td>\n",
       "      <td>0.962156</td>\n",
       "    </tr>\n",
       "    <tr>\n",
       "      <th>3</th>\n",
       "      <td>(DecisionTreeRegressor(criterion='mse', max_de...</td>\n",
       "      <td>5</td>\n",
       "      <td>{'n_estimators': 50}</td>\n",
       "      <td>0.054677</td>\n",
       "      <td>0.909726</td>\n",
       "      <td>0.977737</td>\n",
       "    </tr>\n",
       "    <tr>\n",
       "      <th>4</th>\n",
       "      <td>(DecisionTreeRegressor(criterion='mse', max_de...</td>\n",
       "      <td>5</td>\n",
       "      <td>{'n_estimators': 10, 'bootstrap': True, 'boots...</td>\n",
       "      <td>0.078207</td>\n",
       "      <td>0.858610</td>\n",
       "      <td>0.951958</td>\n",
       "    </tr>\n",
       "    <tr>\n",
       "      <th>5</th>\n",
       "      <td>(DecisionTreeRegressor(criterion='mse', max_de...</td>\n",
       "      <td>5</td>\n",
       "      <td>{'n_estimators': 50, 'bootstrap': True, 'boots...</td>\n",
       "      <td>0.074465</td>\n",
       "      <td>0.886202</td>\n",
       "      <td>0.958039</td>\n",
       "    </tr>\n",
       "  </tbody>\n",
       "</table>\n",
       "</div>"
      ],
      "text/plain": [
       "                                              Method  Folds  \\\n",
       "0  (DecisionTreeRegressor(criterion='mse', max_de...      5   \n",
       "1  (DecisionTreeRegressor(criterion='mse', max_de...      5   \n",
       "2  (DecisionTreeRegressor(criterion='mse', max_de...      5   \n",
       "3  (DecisionTreeRegressor(criterion='mse', max_de...      5   \n",
       "4  (DecisionTreeRegressor(criterion='mse', max_de...      5   \n",
       "5  (DecisionTreeRegressor(criterion='mse', max_de...      5   \n",
       "\n",
       "                                          Parameters  Eval_test        R2  \\\n",
       "0                               {'n_estimators': 10}   0.056974  0.900761   \n",
       "1                                {'oob_score': True}   0.056899  0.900892   \n",
       "2  {'n_estimators': 10, 'bootstrap': True, 'boots...   0.070243  0.872665   \n",
       "3                               {'n_estimators': 50}   0.054677  0.909726   \n",
       "4  {'n_estimators': 10, 'bootstrap': True, 'boots...   0.078207  0.858610   \n",
       "5  {'n_estimators': 50, 'bootstrap': True, 'boots...   0.074465  0.886202   \n",
       "\n",
       "   R2_month  \n",
       "0  0.975637  \n",
       "1  0.976061  \n",
       "2  0.962156  \n",
       "3  0.977737  \n",
       "4  0.951958  \n",
       "5  0.958039  "
      ]
     },
     "execution_count": 9,
     "metadata": {},
     "output_type": "execute_result"
    }
   ],
   "source": [
    "results"
   ]
  },
  {
   "cell_type": "code",
   "execution_count": 10,
   "metadata": {},
   "outputs": [],
   "source": [
    "results.to_csv('BaggingRegressor.csv')"
   ]
  },
  {
   "cell_type": "markdown",
   "metadata": {},
   "source": [
    "# Model Building"
   ]
  },
  {
   "cell_type": "code",
   "execution_count": 11,
   "metadata": {},
   "outputs": [],
   "source": [
    "best_params = results[results['Eval_test']==min(results['Eval_test'])]['Parameters'].reset_index(drop =True)[0]"
   ]
  },
  {
   "cell_type": "code",
   "execution_count": 12,
   "metadata": {},
   "outputs": [
    {
     "data": {
      "text/plain": [
       "{'n_estimators': 50}"
      ]
     },
     "execution_count": 12,
     "metadata": {},
     "output_type": "execute_result"
    }
   ],
   "source": [
    "best_params"
   ]
  },
  {
   "cell_type": "code",
   "execution_count": 13,
   "metadata": {
    "scrolled": true
   },
   "outputs": [
    {
     "data": {
      "text/plain": [
       "BaggingRegressor(base_estimator=None, bootstrap=True,\n",
       "         bootstrap_features=False, max_features=1.0, max_samples=1.0,\n",
       "         n_estimators=50, n_jobs=1, oob_score=False, random_state=None,\n",
       "         verbose=0, warm_start=False)"
      ]
     },
     "execution_count": 13,
     "metadata": {},
     "output_type": "execute_result"
    }
   ],
   "source": [
    "BR = BaggingRegressor(**best_params)\n",
    "BR.fit(X_train, y_train)"
   ]
  },
  {
   "cell_type": "code",
   "execution_count": 14,
   "metadata": {},
   "outputs": [],
   "source": [
    "y_pred = BR.predict(X_test)"
   ]
  },
  {
   "cell_type": "code",
   "execution_count": 15,
   "metadata": {},
   "outputs": [
    {
     "name": "stdout",
     "output_type": "stream",
     "text": [
      "[ 3833.5      0.    4559.94 ...,  5255.16  5693.78     0.  ]\n"
     ]
    }
   ],
   "source": [
    "print(y_pred)"
   ]
  },
  {
   "cell_type": "code",
   "execution_count": 16,
   "metadata": {},
   "outputs": [
    {
     "name": "stdout",
     "output_type": "stream",
     "text": [
      "199480     3452\n",
      "492279        0\n",
      "500907     4679\n",
      "63763      5232\n",
      "74453         0\n",
      "393492     4237\n",
      "10444      3390\n",
      "375668    11558\n",
      "310103     2457\n",
      "248408     8679\n",
      "172477        0\n",
      "481334     4816\n",
      "141523     1766\n",
      "57856      3305\n",
      "19144      4121\n",
      "442714     2509\n",
      "198615     4005\n",
      "102388     5892\n",
      "201752     3889\n",
      "249986     6864\n",
      "385543        0\n",
      "126690     2853\n",
      "201562     5713\n",
      "494046     5668\n",
      "234057     4616\n",
      "83925      7623\n",
      "152551     4421\n",
      "421235     4196\n",
      "270066     5432\n",
      "153996     3371\n",
      "          ...  \n",
      "183905     3828\n",
      "67033      5458\n",
      "356838     5935\n",
      "37337         0\n",
      "1022       4483\n",
      "85432      4344\n",
      "236582        0\n",
      "12614      3003\n",
      "323110     5531\n",
      "317127     3944\n",
      "514921     4167\n",
      "310007        0\n",
      "215660        0\n",
      "406690     5104\n",
      "91533      7221\n",
      "303651        0\n",
      "353483     4606\n",
      "256305     4640\n",
      "24320      3252\n",
      "306740     3844\n",
      "240634     6042\n",
      "149711     3578\n",
      "309371     4153\n",
      "3414       4114\n",
      "298003     5717\n",
      "440202     5429\n",
      "71752      6420\n",
      "282435     5302\n",
      "263394     5104\n",
      "39            0\n",
      "Name: NumberOfSales, Length: 104605, dtype: int64\n"
     ]
    }
   ],
   "source": [
    "print(y_test)"
   ]
  },
  {
   "cell_type": "code",
   "execution_count": 17,
   "metadata": {},
   "outputs": [
    {
     "data": {
      "text/plain": [
       "0.048057707843799195"
      ]
     },
     "execution_count": 17,
     "metadata": {},
     "output_type": "execute_result"
    }
   ],
   "source": [
    "evaluation = my_eval(X_test, y_test, y_pred)\n",
    "evaluation"
   ]
  },
  {
   "cell_type": "code",
   "execution_count": 18,
   "metadata": {},
   "outputs": [
    {
     "data": {
      "text/plain": [
       "0.91517068920822409"
      ]
     },
     "execution_count": 18,
     "metadata": {},
     "output_type": "execute_result"
    }
   ],
   "source": [
    "r2 = r2_score(y_test, y_pred)\n",
    "r2"
   ]
  },
  {
   "cell_type": "markdown",
   "metadata": {},
   "source": [
    "# Creation of the submission "
   ]
  },
  {
   "cell_type": "code",
   "execution_count": 19,
   "metadata": {},
   "outputs": [],
   "source": [
    "model_result={'method': 'BaggingRegressor',\n",
    "       'parameters':len(params_array),\n",
    "       'evaluation': evaluation, \n",
    "       'r2':r2,\n",
    "       'notes': 'None'\n",
    "    }"
   ]
  },
  {
   "cell_type": "code",
   "execution_count": 20,
   "metadata": {},
   "outputs": [],
   "source": [
    "with open('results.json', 'a') as fp:\n",
    "    json.dump(model_result, fp, indent=2)\n",
    "    fp.write('\\n')"
   ]
  },
  {
   "cell_type": "code",
   "execution_count": null,
   "metadata": {
    "collapsed": true
   },
   "outputs": [],
   "source": []
  },
  {
   "cell_type": "code",
   "execution_count": null,
   "metadata": {},
   "outputs": [],
   "source": []
  },
  {
   "cell_type": "code",
   "execution_count": null,
   "metadata": {},
   "outputs": [],
   "source": []
  },
  {
   "cell_type": "code",
   "execution_count": null,
   "metadata": {},
   "outputs": [],
   "source": []
  }
 ],
 "metadata": {
  "anaconda-cloud": {},
  "kernelspec": {
   "display_name": "Python 3",
   "language": "python",
   "name": "python3"
  },
  "language_info": {
   "codemirror_mode": {
    "name": "ipython",
    "version": 3
   },
   "file_extension": ".py",
   "mimetype": "text/x-python",
   "name": "python",
   "nbconvert_exporter": "python",
   "pygments_lexer": "ipython3",
   "version": "3.6.2"
  }
 },
 "nbformat": 4,
 "nbformat_minor": 2
}
